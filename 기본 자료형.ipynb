{
 "cells": [
  {
   "cell_type": "markdown",
   "id": "725e1ba7",
   "metadata": {},
   "source": [
    "# 기본 자료형"
   ]
  },
  {
   "cell_type": "markdown",
   "id": "a1f91914",
   "metadata": {},
   "source": [
    "## 정수형(int)과 실수형(float)"
   ]
  },
  {
   "cell_type": "code",
   "execution_count": 1,
   "id": "bed5026a",
   "metadata": {},
   "outputs": [
    {
     "name": "stdout",
     "output_type": "stream",
     "text": [
      "2023 <class 'int'>\n",
      "9.1 <class 'float'>\n"
     ]
    }
   ],
   "source": [
    "# 각각의 변수에 정수와 실수를 저장해준다.\n",
    "num1 = 2023\n",
    "num2 = 9.10\n",
    "\n",
    "# type()함수로 변수의 자료형을 출력해준다.\n",
    "print(num1, type(num1)) # 2023 <class 'int'>\n",
    "print(num2, type(num2)) # 9.1 <class 'float'>\n",
    "# 2023(정수)를 저장해준 num1는 자료형이 정수형(int)이고 9.10(실수)를 저장해준 num2는 자료형이 실수형(float)임을 알 수 있다."
   ]
  },
  {
   "cell_type": "markdown",
   "id": "78c0762b",
   "metadata": {},
   "source": [
    "## 형변환"
   ]
  },
  {
   "cell_type": "code",
   "execution_count": 9,
   "id": "e98df1f6",
   "metadata": {},
   "outputs": [
    {
     "name": "stdout",
     "output_type": "stream",
     "text": [
      "4 <class 'int'>\n",
      "123.0 <class 'float'>\n",
      "3 <class 'int'>\n",
      "12.0 <class 'float'>\n"
     ]
    }
   ],
   "source": [
    "# 원래 자료형을 다른 자료형으로 바꿔주는 것을 형변환이라고 한다.\n",
    "\n",
    "num1 = 123 #정수형\n",
    "num2 = 4.56 #실수형\n",
    "\n",
    "# int()함수로 실수형을 정수형으로 형변환할 수 있다.\n",
    "num3 = int(num2) # 정수형으로 형변환한 num2의 값을 num3에 저장해준다.\n",
    "print(num3, type(num3)) # 정수형으로 형변환되어 4로 출력된다.\n",
    "\n",
    "# float()함수로 정수형을 실수형으로 형변환할 수 있다.\n",
    "num4 = float(num1) # 실수형으로 형변환한 num1의 값을 num4에 저장해준다.\n",
    "print(num4, type(num4)) # 실수형으로 형변환되어 123.0으로 출력된다.\n",
    "\n",
    "# int()함수와 float()함수의 소괄호 안에 들어가는 값은 변수가 아니라 값이 들어가도 된다.\n",
    "print(int(3.14), type(int(3.14))) # 3 <class 'int'>\n",
    "print(float(12), type(float(12))) # 12.0 <class 'float'>"
   ]
  },
  {
   "cell_type": "markdown",
   "id": "14369ae7",
   "metadata": {},
   "source": [
    "# 문자열 => 정수형 or 실수형 형변환 주의점"
   ]
  },
  {
   "cell_type": "code",
   "execution_count": 10,
   "id": "e72905e4",
   "metadata": {
    "scrolled": true
   },
   "outputs": [
    {
     "name": "stdout",
     "output_type": "stream",
     "text": [
      "20.23 <class 'str'>\n",
      "----문자열 형태의 실수의 연산은 형변환이 필요하다.----\n",
      "20.23 <class 'float'>\n",
      "21.23\n",
      "----문자열 형태의 실수는 정수형으로 형변환이 불가하다.----\n",
      "----문자열 형태의 정수는 실수형 or 정수형으로 바로 형변환이 가능하다.----\n",
      "20 <class 'int'>\n",
      "20.0 <class 'float'>\n"
     ]
    }
   ],
   "source": [
    "# 문자열 형태의 숫자일 때 주의해야한다.\n",
    "data = '20.23'\n",
    "print(data, type(data)) # 20.23이라고 출력되지만 자료형은 문자열이다.\n",
    "\n",
    "# print(data + 1) / 오류내용 : TypeError: can only concatenate str (not \"int\") to str / 문자열 + 정수 = 오류발생\n",
    "\n",
    "# 연산하려면 float()를 사용해 먼저 실수형으로 변환한다.\n",
    "print(\"----문자열 형태의 실수의 연산은 형변환이 필요하다.----\")\n",
    "print(float(data), type(float(data))) \n",
    "print(float(data) + 1)\n",
    "\n",
    "print('----문자열 형태의 실수는 정수형으로 형변환이 불가하다.----')\n",
    "# 문자열 형태의 실수를 정수형으로 바로 형변환하지 못한다.\n",
    "# print(int(data)) / 오류내용 : ValueError: invalid literal for int() with base 10: '20.23'\n",
    "# 문자열 형태의 실수 => 정수(X) / 문자열 형태의 실수 => 실수형 => 정수형(O)\n",
    "\n",
    "# 문자열 형태의 정수는 실수형, 정수형으로 바로 형변환이 가능하다.\n",
    "print(\"----문자열 형태의 정수는 실수형 or 정수형으로 바로 형변환이 가능하다.----\")\n",
    "data2 = '20'\n",
    "print(int(data2), type(int(data2))) # 20 <class 'int'>\n",
    "print(float(data2), type(float(data2))) # 20.0 <class 'float'>"
   ]
  },
  {
   "cell_type": "markdown",
   "id": "80bae9f7",
   "metadata": {},
   "source": [
    "# 논리형(bool)"
   ]
  },
  {
   "cell_type": "code",
   "execution_count": 15,
   "id": "797f7617",
   "metadata": {},
   "outputs": [
    {
     "name": "stdout",
     "output_type": "stream",
     "text": [
      "True <class 'bool'>\n",
      "False <class 'bool'>\n",
      "----값이 있을 때(True)----\n",
      "True <class 'bool'>\n",
      "True <class 'bool'>\n",
      "True <class 'bool'>\n",
      "False <class 'bool'>\n",
      "----값이 없을 때(False)----\n",
      "False <class 'bool'>\n",
      "False <class 'bool'>\n",
      "False <class 'bool'>\n"
     ]
    }
   ],
   "source": [
    "# 논리형은 참(True)와 거짓(False)이다.\n",
    "bo1 = True\n",
    "bo2 = False\n",
    "\n",
    "print(bo1, type(bo1)) # True <class 'bool'>\n",
    "print(bo2, type(bo2)) # False <class 'bool'>\n",
    "\n",
    "# 참과 거짓은 True와 False외에 값의 유무로도 나타낼 수 있다.\n",
    "# 값이 있으면 참, 값이 없으면 False이다.\n",
    "\n",
    "# 값이 있을 때\n",
    "print('----값이 있을 때(True)----')\n",
    "print(bool(1), type(bool(1))) # bool()함수를 이용해 다른 자료형은 논리형으로 형변환할 수 있다.\n",
    "print(bool(' '), type(bool(' '))) # 띄어쓰기도 값이 있다고 해석한다.\n",
    "print(bool('홍길동'), type(bool('홍길동')))\n",
    "\n",
    "# 값이 없을 때 or 값이 0일 때\n",
    "print('----값이 없을 때(False)----')\n",
    "print(bool(''),type(bool('')))\n",
    "print(bool([]),type(bool([])))\n",
    "print(bool(0),type(bool(0)))"
   ]
  },
  {
   "cell_type": "markdown",
   "id": "092de3c4",
   "metadata": {},
   "source": [
    "# 문자열 자료형(str)"
   ]
  },
  {
   "cell_type": "code",
   "execution_count": 22,
   "id": "46421797",
   "metadata": {},
   "outputs": [
    {
     "name": "stdout",
     "output_type": "stream",
     "text": [
      "홍길동 <class 'str'>\n",
      "abcde <class 'str'>\n",
      "----문자열의 연결----\n",
      "30\n",
      "홍길동abcde\n"
     ]
    }
   ],
   "source": [
    "# 문자열 자료형은 말 그래도 문자들이 들어있는 것을 말한다.\n",
    "str1 = '홍길동'\n",
    "str2 = 'abcde'\n",
    "num1 = 10\n",
    "num2 = 20\n",
    "\n",
    "print(str1, type(str1)) # 홍길동 <class 'str'>\n",
    "print(str2, type(str2)) # abcde <class 'str'>\n",
    "\n",
    "# 문자열의 연결\n",
    "print('----문자열의 연결----')\n",
    "print(num1 + num2) # 숫자자료형 + 숫자자료형은 연산이 된다.\n",
    "print(str1 + str2) # 문자열자료형 + 문자열자료형은 연산이 아닌 연결이 되는 것을 볼 수 있다.\n",
    "\n",
    "# print(num1 + str1) \n",
    "# 숫자자료형 + 문자열자료형 = 오류발생\n",
    "# 오류내용 : TypeError: unsupported operand type(s) for +: 'int' and 'str'\n",
    "# 해결방법 : 문자열 형태의 숫자의 연산은 반드시 형변환 후 진행한다."
   ]
  }
 ],
 "metadata": {
  "kernelspec": {
   "display_name": "Python 3 (ipykernel)",
   "language": "python",
   "name": "python3"
  },
  "language_info": {
   "codemirror_mode": {
    "name": "ipython",
    "version": 3
   },
   "file_extension": ".py",
   "mimetype": "text/x-python",
   "name": "python",
   "nbconvert_exporter": "python",
   "pygments_lexer": "ipython3",
   "version": "3.11.5"
  }
 },
 "nbformat": 4,
 "nbformat_minor": 5
}
