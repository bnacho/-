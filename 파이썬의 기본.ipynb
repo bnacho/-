{
 "cells": [
  {
   "cell_type": "markdown",
   "id": "fbc494f8",
   "metadata": {},
   "source": [
    "\n"
   ]
  },
  {
   "cell_type": "markdown",
   "id": "b00e2bff",
   "metadata": {},
   "source": [
    "# 파이썬의 기본 문법"
   ]
  },
  {
   "cell_type": "markdown",
   "id": "f044435b",
   "metadata": {},
   "source": [
    "## print()함수"
   ]
  },
  {
   "cell_type": "code",
   "execution_count": 1,
   "id": "2113b5c8",
   "metadata": {},
   "outputs": [
    {
     "name": "stdout",
     "output_type": "stream",
     "text": [
      "안녕하세요\n",
      "print()함수입니다.\n"
     ]
    }
   ],
   "source": [
    "# 파이썬은 여러 줄의 코드가 있으면 위에서부터 차례로 실행된다.\n",
    "\n",
    "print(\"안녕하세요\")\n",
    "print(\"print()함수입니다.\")\n",
    "\n",
    "# 괄호안에 있는 값을 출력한다.\n",
    "# print()함수가 종료되면 자동으로 줄바꿈을 해준다."
   ]
  },
  {
   "cell_type": "code",
   "execution_count": 16,
   "id": "97dddfaf",
   "metadata": {},
   "outputs": [
    {
     "name": "stdout",
     "output_type": "stream",
     "text": [
      "hello world\n",
      "18\n",
      "9 + 9\n",
      "저는 홍길동 입니다.\n"
     ]
    }
   ],
   "source": [
    "print(\"hello world\") # 괄호 안에 있는 hello world라는 문자열값을 출력해준다.\n",
    "print(9 + 9)         # 연산의 결과값을 출력해준다.\n",
    "print('9 + 9')       # 따옴표를 씌어준다면 문자열로 인식해 그래도 출력해준다."
   ]
  },
  {
   "cell_type": "markdown",
   "id": "e6aecfef",
   "metadata": {},
   "source": [
    "# print()함수의 특징"
   ]
  },
  {
   "cell_type": "code",
   "execution_count": 26,
   "id": "72cdd2b7",
   "metadata": {},
   "outputs": [
    {
     "name": "stdout",
     "output_type": "stream",
     "text": [
      "----sep옵션----\n",
      "저는 홍길동 입니다.\n",
      "----sep옵션 제거----\n",
      "저는홍길동입니다.\n",
      "----end옵션----\n",
      "저는\n",
      "홍길동\n",
      "입니다.\n",
      "----end옵션 제거----\n",
      "저는홍길동입니다"
     ]
    }
   ],
   "source": [
    "# 1. 콤마가 사용되면 자동으로 띄어쓰기를 해준다. (sep = ' '옵션이 기본값이어서 그렇다.)\n",
    "print(\"----sep옵션----\")\n",
    "print(\"저는\", '홍길동', '입니다.')\n",
    "\n",
    "# 1-1. sep = ' '옵션 제거\n",
    "print(\"----sep옵션 제거----\")\n",
    "print(\"저는\",\"홍길동\",\"입니다.\", sep ='') # sep옵션에 띄어쓰기를 없애주면 콤마가 사용되도 띄어쓰기를 하지 않는다.\n",
    "\n",
    "#2. print()함수가 종료되면 자동으로 줄바꿈을 해준다. (end = '\\n'옵션이 기본값이어서 그렇다.)\n",
    "print(\"----end옵션----\")\n",
    "print(\"저는\")\n",
    "print(\"홍길동\")\n",
    "print(\"입니다.\")\n",
    "\n",
    "# 2-1. end = '\\n'옵션 제거\n",
    "print(\"----end옵션 제거----\")\n",
    "print(\"저는\", end = '')\n",
    "print(\"홍길동\", end = '')\n",
    "print(\"입니다\", end = '')"
   ]
  },
  {
   "cell_type": "markdown",
   "id": "7e48259f",
   "metadata": {},
   "source": [
    "# 주석"
   ]
  },
  {
   "cell_type": "code",
   "execution_count": 4,
   "id": "03dfc132",
   "metadata": {
    "scrolled": true
   },
   "outputs": [
    {
     "name": "stdout",
     "output_type": "stream",
     "text": [
      "실행됩니다.\n"
     ]
    },
    {
     "data": {
      "text/plain": [
       "'안녕하세요\\n이것이 여러줄 주석입니다.'"
      ]
     },
     "execution_count": 4,
     "metadata": {},
     "output_type": "execute_result"
    }
   ],
   "source": [
    "# 코드를 작성하고 실행하면 정상적으로 '실행합니다'가 출력되는 것을 볼 수 있습니다.\n",
    "print('실행됩니다.')\n",
    "\n",
    "# print('실행되지 않습니다.')\n",
    "# 하지만 주석을 사용하면 실행해도 '실행되지 않습니다'가 출력되지 않습니다.\n",
    "\n",
    "# 주석은 프로그램 수행에 전혀 영향을 끼치지 않기 때문인데, 주석을 사용하는 이유는 다음과 같습니다.\n",
    "# 1. 프로그램의 개요를 소스코드 내에 적을 때\n",
    "# 2. 어떤 변수나 로직 등에 대한 설명이 필요할 때\n",
    "# 3. 이미 작성한 코드를 실행시킬 때 임시로 빼고 싶을 때\n",
    "\n",
    "# 주석의 사용법\n",
    "# 한줄 주석 : #을 앞에 붙이면 주석 처리가 됩니다\n",
    "# 여러줄 주석 : '''하고 싶은 말''', \"\"\"하고 싶은 말\"\"\" (여러줄 주석은 Docstring 용도로 사용합니다.)\n",
    "\n",
    "'''안녕하세요\n",
    "이것이 여러줄 주석입니다.'''"
   ]
  },
  {
   "cell_type": "markdown",
   "id": "c1cdeb26",
   "metadata": {},
   "source": [
    "# 변수"
   ]
  },
  {
   "cell_type": "code",
   "execution_count": 28,
   "id": "dfc4aae3",
   "metadata": {},
   "outputs": [
    {
     "name": "stdout",
     "output_type": "stream",
     "text": [
      "홍길동\n",
      "----1번 주의사항----\n",
      "5\n",
      "----2번 주의사항----\n",
      "5\n",
      "111\n",
      "----3번 주의사항----\n",
      "1\n",
      "2\n",
      "----4번 주의사항----\n",
      "5\n",
      "----5번 주의사항----\n",
      "치킨\n",
      "김치\n"
     ]
    }
   ],
   "source": [
    "# 어떠한 값을 저장할 수 있는 저장공간을 변수라고 합니다.\n",
    "# (변수명 = 값)의 형태로 변수를 선언할 수 있습니다.\n",
    "\n",
    "name = '홍길동'\n",
    "\n",
    "# 변수는 값을 재사용하기 위해서 사용합니다.\n",
    "print(name) # name를 출력하게 되면 name이라는 변수 안에 저장되어 있는 값이 출력됩니다.\n",
    "\n",
    "# 변수명 주의사항\n",
    "# 1. 띄어쓰기가 불가능합니다 / my age = 10(X), my_age = 10(O)\n",
    "# 2. 특수문자 사용이 불가능합니다.(_(언더바)는 사용가능) / !@#$% = 5(X), my_name = '홍길동'\n",
    "# 3. 숫자로 시작할 수 없습니다. / 1number = 5(X), num1ber = 5(O), number1 = 5(O)\n",
    "# 4. 키워드(역할이 있는 것)는 사용하지 않습니다. / if, class, for 등\n",
    "# 5. 저장할 값에 관련된 단어를 사용하는 것이 좋습니다.\n",
    "# 6. 소문자로 시작하는 것이 좋습니다.\n",
    "\n",
    "# 주의사항별 예시\n",
    "#1\n",
    "# my age = 1 / 오류내용 : SyntaxError: invalid syntax / 발생 이유 : 띄어쓰기를 할 시 에러 발생\n",
    "\n",
    "#해결방법 : 띄어쓰기를 하지 않는다.\n",
    "print(\"----1번 주의사항----\")\n",
    "myage = 5 \n",
    "print(myage)\n",
    "\n",
    "\n",
    "#2\n",
    "# !@#$% = 5 / 오류내용 : '#$%'은(는) 내부 또는 외부 명령, 실행할 수 있는 프로그램 ..... / 발생 이유 : 특수문자 사용 시 에러발생\n",
    "\n",
    "#해결방법 : 특수문자를 사용하지 않는다.\n",
    "print(\"----2번 주의사항----\")\n",
    "num = 5\n",
    "print(num)\n",
    "\n",
    "my_age = 111 # 예외적으로 언더바(_)는 사용가능하다.\n",
    "print(my_age)\n",
    "\n",
    "#3\n",
    "# 1number = 5 / 오류내용 : SyntaxError: invalid decimal literal / 발생 이유 : 숫자로 시작 시 오류발생\n",
    "\n",
    "#해결방법 : 숫자로 시작하지 않는다.\n",
    "print(\"----3번 주의사항----\")\n",
    "num1ber = 1 #숫자를 중간에 집어넣는 방법은 잘 사용하지 않는다.\n",
    "print(num1ber)\n",
    "\n",
    "number1 = 2 \n",
    "print(number1)\n",
    "\n",
    "#4\n",
    "# if = 5 / 오류내용 :  SyntaxError: invalid syntax / 발생 이유 : 변수명에 키워드 사용\n",
    "\n",
    "# 해결 방법 : 기능이 있는 몇몇 키워드가 존재하는데 변수명에는 키워드를 사용하지 않는다.\n",
    "print(\"----4번 주의사항----\")\n",
    "age = 5\n",
    "print(age)\n",
    "\n",
    "#5\n",
    "# food = 5(권고X), food = '치킨'(권고O) / 오류는 발생하지 않지만 저장할 값에 관련된 단어를 변수명으로 사용하는 것을 권고한다.\n",
    "\n",
    "print(\"----5번 주의사항----\")\n",
    "number = '치킨' # 나중에 코드가 길어지면 헷갈릴 수도 있으므로 권고하지 않는다.\n",
    "print(number)\n",
    "\n",
    "food = '김치' # 김치는 음식이므로 food라는 변수명을 사용한다.\n",
    "print(food)\n",
    "\n",
    "#6\n",
    "# Food = '치킨' (권고X), food = '치킨' (권고O)"
   ]
  }
 ],
 "metadata": {
  "kernelspec": {
   "display_name": "Python 3 (ipykernel)",
   "language": "python",
   "name": "python3"
  },
  "language_info": {
   "codemirror_mode": {
    "name": "ipython",
    "version": 3
   },
   "file_extension": ".py",
   "mimetype": "text/x-python",
   "name": "python",
   "nbconvert_exporter": "python",
   "pygments_lexer": "ipython3",
   "version": "3.11.4"
  }
 },
 "nbformat": 4,
 "nbformat_minor": 5
}
