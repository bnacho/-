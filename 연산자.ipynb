{
 "cells": [
  {
   "cell_type": "markdown",
   "id": "5866bf9a",
   "metadata": {},
   "source": [
    "# 연산자"
   ]
  },
  {
   "cell_type": "markdown",
   "id": "88e6af0e",
   "metadata": {},
   "source": [
    "## 산술연산자"
   ]
  },
  {
   "cell_type": "code",
   "execution_count": null,
   "id": "ccab3a16",
   "metadata": {},
   "outputs": [],
   "source": [
    "# 산술연산자는 연산을 하기 위한 연산자이다.\n",
    "# 덧셈, 뺄셈, 나눗셈, 몫 연산, 나머지 연산, 거듭제곱이 있다.\n",
    "\n",
    "num1 = 3\n",
    "num2 = 5\n",
    "\n",
    "print(f\"덧셈 : {num1} + {num2} = {num1 + num2}\") #덧셈\n",
    "print(f\"뺄셈 : {num1} - {num2} = {num1 - num2}\") #뺄셈\n",
    "print(f\"곱셈 : {num1} * {num2} = {num1 * num2}\") #곱셈\n",
    "print(f\"나눗셈 : {num1} / {num2} = {num1 / num2}\") #나눗셈\n",
    "print(f\"나눗셈 : {10} / {5} = {10 / 5}\")\n",
    "\n",
    "# 수학에서와 마찬가지로 0으로 나눌 수 없다.\n",
    "# print(f\"나눗셈 : {10} / {0} = {10 / 0}\") / 오류내용 : ZeroDivisionError: division by zero\n",
    "\n",
    "print(f\"나눗셈 몫 연산자 : {num1} // {num2} = {num1 // num2}\") # 나눗셈 결과의 몫이 반환된다.\n",
    "print(f\"나눗셈 나머지 연산자 : {5} % {10} = {5 % 10}\")         # 나눗셈 결과의 나머지가 반환된다.\n",
    "print(f\"거듭제곱 : {num1} ** {3} = {num1 ** 3}\")"
   ]
  },
  {
   "cell_type": "markdown",
   "id": "73d67b22",
   "metadata": {},
   "source": [
    "## 관계연산자(비교연산자)"
   ]
  },
  {
   "cell_type": "code",
   "execution_count": 1,
   "id": "7088af20",
   "metadata": {},
   "outputs": [
    {
     "name": "stdout",
     "output_type": "stream",
     "text": [
      "10 <class 'int'> 11 <class 'int'>\n",
      "10 > 10 : False\n",
      "10 >= 10 : True\n",
      "11 < 10 : False\n",
      "10 >= 10 : True\n",
      "10 == 11 : False\n",
      "10 != 11 : True\n",
      "False\n"
     ]
    }
   ],
   "source": [
    "# 관계연산자는 두 값을 비교하는 연산자이다.\n",
    "# 결과를 논리형으로 반환한다.\n",
    "num3 = 10\n",
    "num4 = 11\n",
    "\n",
    "print(\"{} > 10 : {}\".format(num3, num3 > 10))\n",
    "print(\"{} >= 10 : {}\".format(num3, num3 >= 10))\n",
    "print(\"{} < 10 : {}\".format(num4, num4 < 10))\n",
    "print(\"{} >= 10 : {}\".format(num3, num3 >= 10))\n",
    "print(\"{} == {} : {}\".format(num3, num4, num3 == num4))\n",
    "print(\"{} != {} : {}\".format(num3, num4, num3 != num4))\n",
    "\n",
    "# 문자열 비교 시 유니코드 값으로 비교된다.\n",
    "# 유니코드 상에서 '가'는 '나'보다 먼저 나오기 때문에 작다고 비교해서 False가 반환된다.\n",
    "str1 = \"가\"\n",
    "str2 = \"나\"\n",
    "print(f\"{str1 > str2}\")"
   ]
  },
  {
   "cell_type": "markdown",
   "id": "8df08dc3",
   "metadata": {},
   "source": [
    "## 복합대입연산자"
   ]
  },
  {
   "cell_type": "code",
   "execution_count": null,
   "id": "650480e8",
   "metadata": {},
   "outputs": [],
   "source": [
    "# 어떤 변수에 저장된 값을 연산하고 다시 그 변수에 저장해줘야 할 때 사용한다. \n",
    "\n",
    "num1 = 10\n",
    "print(num1)\n",
    "\n",
    "num1 += 10 #num1 = num1 + 10\n",
    "print(num1) #num1의 값 : 20\n",
    "# num1의 값에 10을 더한 값을 num1에 대입\n",
    "\n",
    "num1 -= 5 #num1 = num1 - 5\n",
    "#num1 = 20 - 5\n",
    "print(num1) #num1의 값: 15\n",
    "\n",
    "num1 *= 2\n",
    "print(num1) #num1의 값: 30"
   ]
  },
  {
   "cell_type": "markdown",
   "id": "2b24e8e2",
   "metadata": {},
   "source": [
    "## 논리연산자"
   ]
  },
  {
   "cell_type": "code",
   "execution_count": 3,
   "id": "753bb4f3",
   "metadata": {},
   "outputs": [
    {
     "name": "stdout",
     "output_type": "stream",
     "text": [
      "True\n",
      "False\n",
      "False\n",
      "False\n",
      "10 > 0 and 0 > 0 : False\n"
     ]
    }
   ],
   "source": [
    "# and연산자 : 두 값이 True여야만 True를 반환하는 연산자이다.\n",
    "# 어느 하나라도 False라면 False를 반환한다.\n",
    "\n",
    "print(True and True)\n",
    "print(True and False)\n",
    "print(False and True)\n",
    "print(False and False)\n",
    "\n",
    "num1 = 10\n",
    "num2 = 0\n",
    "print(f\"{num1} > 0 and {num2} > 0 : {num1 > 0 and num2 > 0}\") # 관계연산자와 함께 사용할 수 있다."
   ]
  },
  {
   "cell_type": "code",
   "execution_count": 4,
   "id": "b3458bf1",
   "metadata": {},
   "outputs": [
    {
     "name": "stdout",
     "output_type": "stream",
     "text": [
      "True\n",
      "False\n",
      "False\n",
      "False\n",
      "10 > 0 or 0 > 0 : True\n"
     ]
    }
   ],
   "source": [
    "# or 연산자 : 두 값 중 하나라도 True라면 True를 반환한다.\n",
    "# 두 값이 False라면 False를 반환한다.\n",
    "\n",
    "print(True and True)\n",
    "print(True and False)\n",
    "print(False and True)\n",
    "print(False and False)\n",
    "\n",
    "print(f\"{num1} > 0 or {num2} > 0 : {num1 > 0 or num2 > 0}\")"
   ]
  },
  {
   "cell_type": "code",
   "execution_count": 5,
   "id": "7313073b",
   "metadata": {},
   "outputs": [
    {
     "name": "stdout",
     "output_type": "stream",
     "text": [
      "False\n",
      "True\n"
     ]
    }
   ],
   "source": [
    "# not연산자 : True는 False로, False는 True로 반환한다.\n",
    "\n",
    "print(not True)\n",
    "print(not False)"
   ]
  },
  {
   "cell_type": "markdown",
   "id": "42881c4a",
   "metadata": {},
   "source": [
    "## 시퀀스 연산자"
   ]
  },
  {
   "cell_type": "code",
   "execution_count": 7,
   "id": "63f3ae40",
   "metadata": {},
   "outputs": [
    {
     "name": "stdout",
     "output_type": "stream",
     "text": [
      "hellopython <class 'str'>\n",
      "hellohello\n",
      "pythonpythonpython\n",
      "hello\n",
      "\n"
     ]
    }
   ],
   "source": [
    "# 나중에 배울 시퀀스 자료형에 사용 가능한 연산자이다.\n",
    "# 연결, 반복이 있다.\n",
    "string1 = \"hello\"\n",
    "string2 = \"python\"\n",
    "\n",
    "# 연결\n",
    "print(string1 + string2, type(string1 + string2)) # +로 연결해줄 수 있따.\n",
    "\n",
    "#반복\n",
    "print(string1 * 2)\n",
    "print(string2 * 3)\n",
    "print(string1 * True) # print(string1)과 같은 결과를 출력한다.\n",
    "print(string2 * False) #print()와 같은 결과를 출력한다.\n",
    "\n",
    "# print(string1 * 1.5) / float형을 곱해줄 수 없음 / int형만 곱해줄 수 있다."
   ]
  },
  {
   "cell_type": "markdown",
   "id": "48850cb1",
   "metadata": {},
   "source": [
    "## 삼항연산자"
   ]
  },
  {
   "cell_type": "code",
   "execution_count": 8,
   "id": "799150bc",
   "metadata": {},
   "outputs": [
    {
     "name": "stdout",
     "output_type": "stream",
     "text": [
      "True는 참\n",
      "False는 거짓\n",
      "10은 5보다 큽니다.\n",
      "올해는 2023년입니다.\n",
      "올해는 2023년이 아닙니다.\n"
     ]
    }
   ],
   "source": [
    "# 조건식을 사용해서 조건에 따라 특정 결과를 출력할 수 있는 연산자이다.\n",
    "# 형식 : 참일 때의 값 if 조건식 else 거짓일 때의 값\n",
    "# 조건식의 결과는 항상 True. False가 되어야한다.\n",
    "\n",
    "print(\"True는 참\" if True else \"False는 거짓\")\n",
    "print(\"True는 참\" if False else \"False는 거짓\")\n",
    "\n",
    "data = \"10은 5보다 큽니다.\" if 10 > 5 else \"10은 20보다 크다.\"\n",
    "print(data)\n",
    "\n",
    "# 삼항연산자 이용 올해가 2023년이 맞으면 올해는 2023년입니다. 아니면 올해는 2023년이 아닙니다. 출력하기\n",
    "year = 2023\n",
    "print(\"올해는 2023년입니다.\" if year == 2023 else \"올해는 2023년이 아닙니다.\") \n",
    "print(\"올해는 2023년입니다.\" if year + 1 == 2023 else \"올해는 2023년이 아닙니다.\") # 2024가 되므로 거짓일 때의 결과 출력"
   ]
  }
 ],
 "metadata": {
  "kernelspec": {
   "display_name": "Python 3 (ipykernel)",
   "language": "python",
   "name": "python3"
  },
  "language_info": {
   "codemirror_mode": {
    "name": "ipython",
    "version": 3
   },
   "file_extension": ".py",
   "mimetype": "text/x-python",
   "name": "python",
   "nbconvert_exporter": "python",
   "pygments_lexer": "ipython3",
   "version": "3.11.5"
  }
 },
 "nbformat": 4,
 "nbformat_minor": 5
}
