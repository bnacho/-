{
 "cells": [
  {
   "cell_type": "markdown",
   "id": "0e700d07",
   "metadata": {},
   "source": [
    "# 인덱싱과 슬라이싱"
   ]
  },
  {
   "cell_type": "code",
   "execution_count": 7,
   "id": "21abe9b2",
   "metadata": {},
   "outputs": [
    {
     "name": "stdout",
     "output_type": "stream",
     "text": [
      "----인덱스 번호로 인덱싱----\n",
      "h\n",
      "e\n",
      "l\n",
      "l\n",
      "o\n",
      "----마이너스 인덱스 번호로 인덱싱----\n",
      "o\n",
      "l\n",
      "l\n",
      "e\n",
      "h\n"
     ]
    }
   ],
   "source": [
    "# 문자열 자료형의 값은 각각의 문자마다 고유의 번호가 부여된다.\n",
    "# 이를 인덱스 번호라고 부르고, 인덱스 번호를 이용해 인덱싱과 슬라이싱을 할 수 있다.\n",
    "\n",
    "# 인덱스 번호는 0부터 시작해서 왼쪽부터 차례대로 부여된다.\n",
    "# 마이너스 인덱스 번호는 -1부터 시작해서 오른쪽부터 차례대로 부여된다.\n",
    "#      01234    로 인덱스 번호가 부여된다.\n",
    "str = \"hello\"\n",
    "#     -54321    로 마이너스 인덱스 번호가 부여된다. \n",
    "\n",
    "# 인덱싱이란?\n",
    "# 인덱스 번호를 이용해 특정 인덱스 번호 자리에 있는 문자를 추출하는 것을 말한다.\n",
    "# 형식 : 변수명[인덱스번호]\n",
    "print('----인덱스 번호로 인덱싱----')\n",
    "print(str[0]) # 인덱스번호 0 자리에는 h가 있으므로 h가 출력된다.\n",
    "print(str[1]) # 인덱스번호 1 자리에는 e가 있으므로 e가 출력된다.\n",
    "print(str[2]) # 인덱스번호 2 자리에는 l가 있으므로 l가 출력된다.\n",
    "print(str[3]) # 인덱스번호 3 자리에는 l가 있으므로 l가 출력된다.\n",
    "print(str[4]) # 인덱스번호 4 자리에는 l가 있으므로 o가 출력된다.\n",
    "\n",
    "# 마이너스 인덱스 번호로 인덱싱!!\n",
    "print('----마이너스 인덱스 번호로 인덱싱----')\n",
    "print(str[-1]) # 인덱스번호 -1 자리에는 o가 있으므로 o가 출력된다.\n",
    "print(str[-2]) # 인덱스번호 -2 자리에는 l가 있으므로 l가 출력된다.\n",
    "print(str[-3]) # 인덱스번호 -3 자리에는 l가 있으므로 l가 출력된다.\n",
    "print(str[-4]) # 인덱스번호 -4 자리에는 e가 있으므로 e가 출력된다.\n",
    "print(str[-5]) # 인덱스번호 -5 자리에는 h가 있으므로 h가 출력된다.\n",
    "\n",
    "# 숫자자료형에는 인덱싱이 되지 않는다.(인덱스 번호가 부여되지 않기 때문)\n",
    "num = 12345\n",
    "# print(num[0])\n",
    "# 오류내용 : TypeError: 'int' object is not subscriptable"
   ]
  },
  {
   "cell_type": "code",
   "execution_count": 22,
   "id": "3122eca7",
   "metadata": {},
   "outputs": [
    {
     "name": "stdout",
     "output_type": "stream",
     "text": [
      "hello \n",
      "hello \n",
      "hello w\n",
      "world\n",
      "hlowrd\n",
      "hello world\n"
     ]
    }
   ],
   "source": [
    "# 슬라이싱이란?\n",
    "# 인덱싱은 하나의 문자만 출력할 수 있었다면 슬라이싱은 여러 문자를 출력할 때 사용한다.\n",
    "# 형식 : 변수명[시작인덱스 : 종료인덱스 : 스텝값]\n",
    "\n",
    "#       012345678910 / 인덱스 번호\n",
    "str2 = 'hello world'\n",
    "#    -1110987654321 / 마이너스 인덱스 번호\n",
    "\n",
    "# 슬라이싱으로 hello만 출력하기!!\n",
    "print(str2[0:6:1]) # 종료인덱스의 값은 포함되지 않고, 종료인덱스 - 1의 값까지 반환된다.\n",
    "print(str2[0:6])   # 스텝값이 1인 경우 생략 가능\n",
    "\n",
    "# 처음부터 w까지 출력\n",
    "print(str2[:7]) # 처음부터일 경우 시작인덱스 생략가능\n",
    "\n",
    "# world 출력\n",
    "print(str2[6:]) # 종료인덱스가 마지막 인덱스라면 생략 가능\n",
    "\n",
    "# 처음부터 끝까지 2칸씩 건너뛰면서 출력\n",
    "print(str2[::2]) # 처음부터 끝까지 일때 시작인덱스, 종료인덱스 생략 가능\n",
    "\n",
    "# 처음부터 끝까지 출력\n",
    "# print(str2[]) / SyntaxError: invalid syntax. Perhaps you forgot a comma?\n",
    "# 처음부터 끝까지 출력일 때 콜론을 하나 넣어줘야한다.\n",
    "# 콜론을 넣지 않으면 인덱싱으로 이해하여, 오류가 발생한다.\n",
    "\n",
    "print(str2[:])"
   ]
  }
 ],
 "metadata": {
  "kernelspec": {
   "display_name": "Python 3 (ipykernel)",
   "language": "python",
   "name": "python3"
  },
  "language_info": {
   "codemirror_mode": {
    "name": "ipython",
    "version": 3
   },
   "file_extension": ".py",
   "mimetype": "text/x-python",
   "name": "python",
   "nbconvert_exporter": "python",
   "pygments_lexer": "ipython3",
   "version": "3.11.5"
  }
 },
 "nbformat": 4,
 "nbformat_minor": 5
}
