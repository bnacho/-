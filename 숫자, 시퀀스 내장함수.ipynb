{
 "cells": [
  {
   "cell_type": "markdown",
   "id": "02834ffc",
   "metadata": {},
   "source": [
    "# 숫자 내장함수"
   ]
  },
  {
   "cell_type": "code",
   "execution_count": 1,
   "id": "6cd46b6e",
   "metadata": {},
   "outputs": [
    {
     "name": "stdout",
     "output_type": "stream",
     "text": [
      "1.5\n",
      "2\n",
      "2\n",
      "4\n",
      "4\n",
      "6\n",
      "6\n",
      "8\n",
      "8\n",
      "10\n",
      "10\n"
     ]
    }
   ],
   "source": [
    "# round() : 반올림한 값을 반환\n",
    "# round()함수는 오사오입을 사용하기 때문에 우리가 흔히 아는 사사오입과는 다른 결과가 출력된다.\n",
    "\n",
    "print(1.5)\n",
    "print(round(1.5)) #2\n",
    "print(round(2.5)) #2\n",
    "print(round(3.5)) #4\n",
    "print(round(4.5)) #4\n",
    "print(round(5.5)) #6\n",
    "print(round(6.5)) #6\n",
    "print(round(7.5)) #8\n",
    "print(round(8.5)) #8\n",
    "print(round(9.5)) #10\n",
    "print(round(10.5)) #10"
   ]
  },
  {
   "cell_type": "code",
   "execution_count": 14,
   "id": "964b1d9a",
   "metadata": {},
   "outputs": [
    {
     "name": "stdout",
     "output_type": "stream",
     "text": [
      "5\n",
      "5\n",
      "(3, 1)\n",
      "5\n",
      "5.7\n",
      "76\n",
      "4\n",
      "135\n",
      "125\n"
     ]
    }
   ],
   "source": [
    "# abs() : 전달된 인수의 절대값을 반환한다.\n",
    "\n",
    "print(abs(-5))\n",
    "print(abs(5))\n",
    "\n",
    "# divmod() : 전달된 인수를 나누어서 몫과 나머지를 한쌍의 튜플로 반환한다.\n",
    "print(divmod(10,3))\n",
    "\n",
    "# int() : 전달된 인수를 정수로 형변환하여 반환한다.\n",
    "print(int(5.7))\n",
    "\n",
    "# float() : 전달된 인수를 실수로 형변환하여 반환한다.\n",
    "print(float(5.7))\n",
    "\n",
    "# max() : 전달된 인수 중 가장 큰 값을 반환한다.\n",
    "print(max([5, 50, 76, 4]))\n",
    "\n",
    "# min() : 전달된 인수 중 가장 작은 값을 반환한다.\n",
    "print(min([5, 50, 76, 4]))\n",
    "\n",
    "# sum() : 전달된 반복가능객체의 합을 반환한다. / 숫자가 아닌 값을 전달하면 오류 발생\n",
    "print(sum([5, 50, 76, 4]))\n",
    "# print(sum(['가', '나', '다', '라'])) / TypeError: unsupported operand type(s) for +: 'int' and 'str'\n",
    "\n",
    "# pow() : 전달된 두 인수의 거듭제곱을 반환한다.\n",
    "print(pow(5, 3))"
   ]
  },
  {
   "cell_type": "markdown",
   "id": "bfb9b612",
   "metadata": {},
   "source": [
    "# 시퀀스 내장함수"
   ]
  },
  {
   "cell_type": "code",
   "execution_count": 22,
   "id": "d027d76e",
   "metadata": {},
   "outputs": [
    {
     "name": "stdout",
     "output_type": "stream",
     "text": [
      "<enumerate object at 0x000001B021B63380>\n",
      "0번에 있는 값은 1입니다.\n",
      "1번에 있는 값은 2입니다.\n",
      "2번에 있는 값은 3입니다.\n",
      "3번에 있는 값은 4입니다.\n",
      "7\n",
      "[2, 4, 5, 6, 6, 7, 9]\n",
      "[9, 7, 6, 6, 5, 4, 2]\n",
      "<zip object at 0x000001B021B8DA40>\n",
      "홍길동의 점수는 90점입니다.\n",
      "이순신의 점수는 100점입니다.\n",
      "세종대왕의 점수는 95점입니다.\n",
      "장보고의 점수는 89점입니다.\n"
     ]
    }
   ],
   "source": [
    "# enumerate() : 저장된 요소와 해당 요소의 인덱스가 튜플 형태로 출력된다.\n",
    "print(enumerate([1, 2, 3, 4])) # 이렇게만 쓰면 메모리 주소가 반환된다.\n",
    "\n",
    "for idx, i in enumerate([1, 2, 3, 4]):\n",
    "    print(f\"{idx}번에 있는 값은 {i}입니다.\")\n",
    "    \n",
    "# len() : 전달된 객체의 길이를 반환하는 함수\n",
    "print(len([1, 2, 3, 4, 5, 6, 7]))\n",
    "\n",
    "# sorted() : 전달된 반복가능객체의 오름차순 정렬 결과의 복사본을 반환하는 함수\n",
    "# reverse = True로 내림차순 정렬 결과의 복사본을 반환할 수 있다.\n",
    "\n",
    "print(sorted([6, 7, 4, 2, 5, 9, 6])) # 오름차순\n",
    "print(sorted([6, 7, 4, 2, 5, 9, 6], reverse = True)) # 내림차순\n",
    "\n",
    "# zip() : 전달된 여러개의 반복가능객체의 각 요소를 튜플로 묶어서 반환하는 함수\n",
    "name = ['홍길동', '이순신', '세종대왕', '장보고']\n",
    "score = [90, 100, 95, 89]\n",
    "\n",
    "print(zip(name, score)) # 메모리 주소값이 반환된다.\n",
    "\n",
    "for name, score in zip(name, score):\n",
    "    print(f\"{name}의 점수는 {score}점입니다.\")"
   ]
  }
 ],
 "metadata": {
  "kernelspec": {
   "display_name": "Python 3 (ipykernel)",
   "language": "python",
   "name": "python3"
  },
  "language_info": {
   "codemirror_mode": {
    "name": "ipython",
    "version": 3
   },
   "file_extension": ".py",
   "mimetype": "text/x-python",
   "name": "python",
   "nbconvert_exporter": "python",
   "pygments_lexer": "ipython3",
   "version": "3.11.5"
  }
 },
 "nbformat": 4,
 "nbformat_minor": 5
}
