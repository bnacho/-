{
 "cells": [
  {
   "cell_type": "markdown",
   "id": "1b58a104",
   "metadata": {},
   "source": [
    "# 클래스\n",
    "\n",
    "    > 함수 : 특정 기능을 수행하는 코드의 묶음 / 클래스 안에서는 메소드라고 부름\n",
    "    > 클래스 : 여러 변수와 메소드를 묶어서 처리할 수 있는 것 / 공통된 요소들이 모여있는 하나의 틀\n",
    "    > 데이터 속성 : 데이터 속성으로 데이터를 정의하는 것\n",
    "    > 속성 : 메소드와 데이터 속성을 합쳐서 부르는 말\n",
    "    > 객체(인스턴스) : 정의한 클래스를 실제로 이용하기 위해 사용 / 클래스로부터 생성되는 각각의 존재가 인스턴스"
   ]
  },
  {
   "cell_type": "code",
   "execution_count": 2,
   "id": "fe171c5f",
   "metadata": {},
   "outputs": [
    {
     "name": "stdout",
     "output_type": "stream",
     "text": [
      "3 <class 'int'>\n",
      "5.1 <class 'float'>\n",
      "1\n"
     ]
    }
   ],
   "source": [
    "num1 = 3 #num1 변수, int형 객체 num1\n",
    "num2 = 5.1 #float형 객체 num2\n",
    "print(num1, type(num1)) # 3 <class 'int'>\n",
    "print(num2, type(num2)) # 5.1 <class 'float'>\n",
    "\n",
    "li = list(range(4))\n",
    "# li라는 변수는 list타입으로 생성된 객체 li\n",
    "\n",
    "# 리스트의 메소드(.append(), .count())\n",
    "li.append(5) # append메솓드는 매개변수는 있지만, 반환값은 없다.\n",
    "\n",
    "print(li.count(1)) # count메소드는 매개변수와 반환값이 모두 있다.\n"
   ]
  },
  {
   "cell_type": "markdown",
   "id": "fb3bfda3",
   "metadata": {},
   "source": [
    "## 클래스를 사용하는 이유\n",
    "\n",
    " - 변수에 여러 값을 저장하고 싶을 때 -> 컬렉션(리스트, 튜플, 세트, 딕셔너리)\n",
    " - 여러 값들과 기능을 저장하고 싶을 때 -> 사용자 정의 함수\n",
    " - 사용자 정의 함수를 여러개 저장하고 싶을 때 -> 컬렉션"
   ]
  },
  {
   "cell_type": "markdown",
   "id": "0841685c",
   "metadata": {},
   "source": [
    "## 클래스를 사용하는 정확한 이유\n",
    " - 하나의 클래스를 통해서 여러개의 객체를 생성하므로 코드의 반복을 줄일 수 있다.\n",
    " - 메소드를 하나만 변경하더라도 객체 하나하나의 메소드를 일일이 바꾸어줄 필요없이 클래스 하나만을 변경함으로 모든 객체에 영향을 줄 수 있다."
   ]
  },
  {
   "cell_type": "code",
   "execution_count": 8,
   "id": "e09ce9bb",
   "metadata": {},
   "outputs": [
    {
     "name": "stdout",
     "output_type": "stream",
     "text": [
      "<__main__.Person object at 0x0000025E411DB790> <class '__main__.Person'>\n",
      "홍길동\n",
      "5\n"
     ]
    }
   ],
   "source": [
    "# 클래스 선언\n",
    "# 클래스명의 첫글자는 대문자로 사용\n",
    "# 메소드의 첫번째 매개변수는 self(객체 구별용 매개변수)로 작성\n",
    "\n",
    "class Person:\n",
    "    def get_name(self):    #사람의 이름을 정의하는 메소드\n",
    "        print(self.name)   # self.name : 사람의 이름을 정의하는 데이터 속성\n",
    "        \n",
    "    def get_age(self):    #사람의 나이를 정의하는 메소드\n",
    "        return self.age   # self.age : 사람의 나이를 정의하는 데이터 속성\n",
    "    \n",
    "# 클래스 사용\n",
    "# 객체화 작업(인스턴스화) => 객체명 = 클래스명()\n",
    "\n",
    "pr1 = Person() #객체화\n",
    "print(pr1, type(pr1))\n",
    "\n",
    "# get_name이라는 메소듣 호출\n",
    "\n",
    "# pr1.get_name() / AttributeError: 'Person' object has no attribute 'name' / self.name 데이터 속성에 값이 없어서 오류발생\n",
    "\n",
    "pr1.name = '홍길동'\n",
    "pr1.get_name()\n",
    "\n",
    "# get_age메소드 호출\n",
    "pr1.age = 5\n",
    "print(pr1.get_age())"
   ]
  },
  {
   "cell_type": "code",
   "execution_count": 10,
   "id": "1e6c2db5",
   "metadata": {},
   "outputs": [
    {
     "name": "stdout",
     "output_type": "stream",
     "text": [
      "<__main__.Cal object at 0x0000025E411BC890>\n",
      "<__main__.Cal object at 0x0000025E411BFA10>\n",
      "30\n",
      "35\n"
     ]
    }
   ],
   "source": [
    "# 더하기와 곱하기 기능을 구현한 클래스\n",
    "\n",
    "class Cal:\n",
    "    def setdata(self, num1, num2):\n",
    "        self.num1 = num1\n",
    "        self.num2 = num2\n",
    "        \n",
    "    def add(self):\n",
    "        res = self.num1 + self.num2\n",
    "        return res\n",
    "    \n",
    "    def mul(self):\n",
    "        res = self.num1 * self.num2\n",
    "        return res\n",
    "    \n",
    "# 객체화\n",
    "number1 = Cal()\n",
    "print(number1)\n",
    "number1.setdata(10,20)\n",
    "\n",
    "number2 = Cal()\n",
    "print(number2)\n",
    "number2.setdata(5, 7)\n",
    "\n",
    "print(number1.add())\n",
    "print(number2.mul())"
   ]
  },
  {
   "cell_type": "code",
   "execution_count": 14,
   "id": "7580cf6e",
   "metadata": {},
   "outputs": [
    {
     "name": "stdout",
     "output_type": "stream",
     "text": [
      "<__main__.SoccerPlayer object at 0x0000025E41173D90>\n",
      "이강인의 포지션은 미드필더입니다.\n",
      "<__main__.SoccerPlayer object at 0x0000025E41170D90>\n",
      "이한범의 포지션은 수비수입니다.\n",
      "파리\n"
     ]
    }
   ],
   "source": [
    "# 생성자 : 인스턴스가 작성될 때 처음에 반드시 처리되는 메소드\n",
    "\n",
    "class SoccerPlayer:\n",
    "    def __init__(self, name, position):\n",
    "        self.name = name\n",
    "        self.position = position\n",
    "        \n",
    "    def show(self):\n",
    "        print(f\"{self.name}의 포지션은 {self.position}입니다.\")\n",
    "        \n",
    "player1 = SoccerPlayer('이강인', '미드필더')\n",
    "print(player1)\n",
    "player1.show()\n",
    "\n",
    "player2 = SoccerPlayer('이한범', '수비수')\n",
    "print(player2)\n",
    "player2.show()\n",
    "\n",
    "player1.country = '파리'\n",
    "print(player1.country)"
   ]
  },
  {
   "cell_type": "code",
   "execution_count": 15,
   "id": "1f8885dc",
   "metadata": {},
   "outputs": [
    {
     "name": "stdout",
     "output_type": "stream",
     "text": [
      "홍길동\n",
      "골키퍼\n",
      "한국\n",
      "한국\n"
     ]
    }
   ],
   "source": [
    "# 클래스 변수와 인스턴스 변수\n",
    "# 클래스 변수 : 모든 인스턴스가 동일한 값을 사용할 때 모든 인스턴스들이 공유할 수 있는 변수 => 클래스명.클래스변수명\n",
    "# 인스턴스변수 : self 키워드를 붙여서 사용한다\n",
    "\n",
    "# 클래스에 인스턴스 변수를 사용하려면 오류가 발생한다.\n",
    "# 인스턴스 변수는 self를 붙여서 사용하고 클래스 변수는 self를 붙이지 않는다\n",
    "\n",
    "\n",
    "class SoccerPlayer:\n",
    "    country = \"한국\"    #클래스 변수\n",
    "\n",
    "    def __init__(self, name, position):\n",
    "        self.name = name        #인스턴스변수 / self가 붙으면 인스턴스 변수이다.\n",
    "        self.position = position    #인스턴스 변수\n",
    "\n",
    "    def show(self):\n",
    "        print(f\"{self.name}의 포지션은 {self.position}입니다.\")\n",
    "\n",
    "man = SoccerPlayer('홍길동', '골키퍼')\n",
    "print(man.name)\n",
    "print(man.position)\n",
    "print(man.country)  #객체명.클래스변수명\n",
    "print(SoccerPlayer.country) #클래스명.클래스변수명\n",
    "# print(SoccerPlayer.name)    #클래스명.인스턴스변수명 오류발생"
   ]
  },
  {
   "cell_type": "code",
   "execution_count": 17,
   "id": "9c458073",
   "metadata": {},
   "outputs": [
    {
     "name": "stdout",
     "output_type": "stream",
     "text": [
      "해리포터가 감자를 먹습니다\n",
      "해리포터가 떡볶이에서 공부합니다\n",
      "해리포터가 떡볶이를 먹습니다\n"
     ]
    }
   ],
   "source": [
    "# 상속 : 기존에 사용중인 클래스를 바탕으로 새로운 요소를 추가해서 클래스를 다시 정의하는 것\n",
    "# 새로운 클래스는 기존 클래스의 데이터 속성, 메소드를 상속받는 구조로 되어있음\n",
    "\n",
    "class Person: #슈퍼클래스\n",
    "    def __init__(self,name):\n",
    "        self.name = name\n",
    "\n",
    "    def eat(self, food):\n",
    "        print(f\"{self.name}가 {food}를 먹습니다\")\n",
    "\n",
    "class Student(Person):\n",
    "    def __init__(self, name, school):\n",
    "        super().__init__(name)\n",
    "        self.school = school\n",
    "\n",
    "    def study(self):\n",
    "        print(f\"{self.name}가 {self.school}에서 공부합니다\")\n",
    "\n",
    "# 슈퍼클래스의 객체\n",
    "potter = Person('해리포터')\n",
    "potter.eat('감자')\n",
    "\n",
    "# 서브클래스의 객체\n",
    "potter2 = Student('해리포터', '떡볶이')\n",
    "potter2.study()\n",
    "potter2.eat('떡볶이')\n",
    "\n",
    "# 슈퍼클래스의 객체는 서브클래스의 속성에 접근 불가\n",
    "# 서브클래스의 객체는 슈퍼클래스의 속성에 접근 가능"
   ]
  }
 ],
 "metadata": {
  "kernelspec": {
   "display_name": "Python 3 (ipykernel)",
   "language": "python",
   "name": "python3"
  },
  "language_info": {
   "codemirror_mode": {
    "name": "ipython",
    "version": 3
   },
   "file_extension": ".py",
   "mimetype": "text/x-python",
   "name": "python",
   "nbconvert_exporter": "python",
   "pygments_lexer": "ipython3",
   "version": "3.11.5"
  }
 },
 "nbformat": 4,
 "nbformat_minor": 5
}
