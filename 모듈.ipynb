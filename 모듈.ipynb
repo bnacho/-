{
 "cells": [
  {
   "cell_type": "markdown",
   "id": "5638aa9d",
   "metadata": {},
   "source": [
    "# 모듈"
   ]
  },
  {
   "cell_type": "code",
   "execution_count": null,
   "id": "284cba98",
   "metadata": {},
   "outputs": [],
   "source": [
    "# 파이썬 파일을 의미한다.\n",
    "# 모듈 안에는 파이썬 코드가 들어있다.(변수, 함수 등)\n",
    "# 파이썬에는 개발자들이 만든 수많은 함수, 변수들이 들어있는 모듈이 매우 많다.\n",
    "# 그 모듈을 다운 받아서 이용할 수 있다\n",
    "\n",
    "# 모듈을 다운 받는 방법 : import 모듈명"
   ]
  },
  {
   "cell_type": "code",
   "execution_count": 1,
   "id": "87cd6209",
   "metadata": {},
   "outputs": [
    {
     "name": "stdout",
     "output_type": "stream",
     "text": [
      "12\n"
     ]
    }
   ],
   "source": [
    "# random모듈 예시\n",
    "import random # 랜덤 모듈에 있는 다양한 함수들을 사용할 수 있다.\n",
    "\n",
    "# 모듈 안에 있는 함수를 사용하려면 '소속.함수()'로 사용할 수 있다.\n",
    "print(random.randint(10,20)) # 10과 20사이의 수 중 랜덤으로 하나의 수를 고른다."
   ]
  },
  {
   "cell_type": "code",
   "execution_count": 3,
   "id": "8d7d57a3",
   "metadata": {},
   "outputs": [
    {
     "name": "stdout",
     "output_type": "stream",
     "text": [
      "16\n"
     ]
    }
   ],
   "source": [
    "# 모듈에서 특정 함수만 import하는 방법\n",
    "# from 모듈명 import 함수1, 함수2\n",
    "\n",
    "from random import randint\n",
    "\n",
    "# 모듈에서 특정 함수만 import했다면 소속을 밝혀줄 필요가 없다.\n",
    "print(randint(10,20))"
   ]
  },
  {
   "cell_type": "code",
   "execution_count": 4,
   "id": "9ead442c",
   "metadata": {},
   "outputs": [
    {
     "name": "stdout",
     "output_type": "stream",
     "text": [
      "18\n"
     ]
    }
   ],
   "source": [
    "# 별칭 설정\n",
    "# import 모듈명 as 별명\n",
    "\n",
    "import random as rd\n",
    "\n",
    "# 모듈명이 길 경우 별명을 설정하여 줄일ㄹ 수 있다.\n",
    "print(rd.randint(10,20))"
   ]
  }
 ],
 "metadata": {
  "kernelspec": {
   "display_name": "Python 3 (ipykernel)",
   "language": "python",
   "name": "python3"
  },
  "language_info": {
   "codemirror_mode": {
    "name": "ipython",
    "version": 3
   },
   "file_extension": ".py",
   "mimetype": "text/x-python",
   "name": "python",
   "nbconvert_exporter": "python",
   "pygments_lexer": "ipython3",
   "version": "3.11.5"
  }
 },
 "nbformat": 4,
 "nbformat_minor": 5
}
