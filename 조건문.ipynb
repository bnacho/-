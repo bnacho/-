{
 "cells": [
  {
   "cell_type": "markdown",
   "id": "a72fe1e7",
   "metadata": {},
   "source": [
    "# if문"
   ]
  },
  {
   "cell_type": "code",
   "execution_count": 1,
   "id": "30756cf0",
   "metadata": {},
   "outputs": [
    {
     "name": "stdout",
     "output_type": "stream",
     "text": [
      "-------------조건식이 참일 때 결과---------------\n",
      "if문 안의 문장\n",
      "if문 밖의 문장\n",
      "if문 끝\n",
      "\n",
      "-------------조건식이 거짓일 때 결과---------------\n",
      "if문 밖의 문장\n",
      "if문 끝\n"
     ]
    }
   ],
   "source": [
    "# 어떤 조건식의 결과에 따라 실행하는 코드가 달라지게 할 수 있다.\n",
    "# 들여쓰기를 해줘야 if문 안의 문장으로 인식한다.\n",
    "\n",
    "print(\"-------------조건식이 참일 때 결과---------------\")\n",
    "if True:\n",
    "    print(\"if문 안의 문장\") #조건식이 참일 때 실행되는 문장\n",
    "print(\"if문 밖의 문장\") #조건식이 거짓일때, 조건식이 참일 때 실행되는 문장 다음에 실행\n",
    "print(\"if문 끝\")\n",
    "\n",
    "print(\"\\n-------------조건식이 거짓일 때 결과---------------\")\n",
    "if False:\n",
    "    print(\"if문 안의 문장\")\n",
    "print(\"if문 밖의 문장\")\n",
    "print(\"if문 끝\")"
   ]
  },
  {
   "cell_type": "code",
   "execution_count": 6,
   "id": "6b181855",
   "metadata": {},
   "outputs": [
    {
     "name": "stdout",
     "output_type": "stream",
     "text": [
      "홍길동입니다.\n",
      "홍길동이 아닙니다.\n"
     ]
    }
   ],
   "source": [
    "name = '홍길동'\n",
    "\n",
    "if name == '홍길동':\n",
    "    print('홍길동입니다.')\n",
    "print('홍길동이 아닙니다.')\n",
    "\n",
    "# if문만 사용하면 '홍길동'이 아닌 경우에 실행되는 문장을 정해줄 수 없습니다.\n",
    "# 밑에 if~else문을 사용하면 이를 정해줄 수 있습니다."
   ]
  },
  {
   "cell_type": "markdown",
   "id": "01dabbad",
   "metadata": {},
   "source": [
    "# if~else문"
   ]
  },
  {
   "cell_type": "code",
   "execution_count": 4,
   "id": "8a496c21",
   "metadata": {},
   "outputs": [
    {
     "name": "stdout",
     "output_type": "stream",
     "text": [
      "-------------조건식이 참일 때 결과---------------\n",
      "if문 안의 문장\n",
      "if~else문 끝\n",
      "\n",
      "-------------조건식이 거짓일 때 결과---------------\n",
      "else문 안의 문장\n",
      "if~else문 끝\n"
     ]
    }
   ],
   "source": [
    "# if~else문은 조건을 만족하지 않는 경우에 실행할 문장을 정해줄 수 있습니다.\n",
    "\n",
    "print(\"-------------조건식이 참일 때 결과---------------\")\n",
    "if True:\n",
    "    print(\"if문 안의 문장\") # 조건식이 참일 때 실행\n",
    "else:\n",
    "    print(\"else문 안의 문장\") # 조건식이 거짓일 때 실행\n",
    "print(\"if~else문 끝\")\n",
    "\n",
    "print(\"\\n-------------조건식이 거짓일 때 결과---------------\")\n",
    "if False:\n",
    "    print(\"if문 안의 문장\") # 조건식이 참일 때 실행\n",
    "else:\n",
    "    print(\"else문 안의 문장\") # 조건식이 거짓일 때 실행\n",
    "print(\"if~else문 끝\")"
   ]
  },
  {
   "cell_type": "code",
   "execution_count": 7,
   "id": "477aedd5",
   "metadata": {},
   "outputs": [
    {
     "name": "stdout",
     "output_type": "stream",
     "text": [
      "홍길동입니다.\n",
      "if~else문 끝\n"
     ]
    }
   ],
   "source": [
    "name = '홍길동'\n",
    "\n",
    "if name == '홍길동':\n",
    "    print('홍길동입니다.')\n",
    "else:\n",
    "    print('홍길동이 아닙니다.')\n",
    "print('if~else문 끝')"
   ]
  },
  {
   "cell_type": "markdown",
   "id": "2b5bd4d8",
   "metadata": {},
   "source": [
    "# if ~ elif ~ else문"
   ]
  },
  {
   "cell_type": "code",
   "execution_count": 8,
   "id": "c7e48ed3",
   "metadata": {},
   "outputs": [
    {
     "name": "stdout",
     "output_type": "stream",
     "text": [
      "11은 10보다 큽니다.\n",
      "출력 끝\n"
     ]
    }
   ],
   "source": [
    "# if ~elif문은 하나의 조건식을 사용했다면 if ~elif ~else문은 여러가지 조건식을 사용할 수 있습니다.\n",
    "\n",
    "#if문이 참일 때 결과 확인\n",
    "num = 11\n",
    "if num > 10:\n",
    "    print(f\"{num}은 10보다 큽니다.\")\n",
    "elif num>5:\n",
    "    print(f\"{num}은 5보다 큽니다.\")\n",
    "else:\n",
    "    print(f\"{num}은 5보다 크지 않습니다.\")\n",
    "print(\"출력 끝\")"
   ]
  },
  {
   "cell_type": "code",
   "execution_count": 9,
   "id": "11e4d157",
   "metadata": {},
   "outputs": [
    {
     "name": "stdout",
     "output_type": "stream",
     "text": [
      "7은 5보다 크고 10보다 작습니다.\n",
      "출력 끝\n"
     ]
    }
   ],
   "source": [
    "# if문이 거짓이고 elif문이 참일 때 결과 확인\n",
    "num = 7\n",
    "if num > 10:\n",
    "    print(f\"{num}은 10보다 큽니다.\")\n",
    "elif num>5:\n",
    "    print(f\"{num}은 5보다 크고 10보다 작습니다.\")\n",
    "else:\n",
    "    print(f\"{num}은 5보다 크지 않습니다.\")\n",
    "print(\"출력 끝\")"
   ]
  },
  {
   "cell_type": "code",
   "execution_count": 10,
   "id": "63c51839",
   "metadata": {},
   "outputs": [
    {
     "name": "stdout",
     "output_type": "stream",
     "text": [
      "3은 5보다 크지 않습니다.\n",
      "출력 끝\n"
     ]
    }
   ],
   "source": [
    "# if문과 elif문이 모두 거짓일 떄\n",
    "num = 3\n",
    "if num > 10:\n",
    "    print(f\"{num}은 10보다 큽니다.\")\n",
    "elif num>5:\n",
    "    print(f\"{num}은 5보다 크고 10보다 작습니다.\")\n",
    "else:\n",
    "    print(f\"{num}은 5보다 크지 않습니다.\")\n",
    "print(\"출력 끝\")"
   ]
  },
  {
   "cell_type": "code",
   "execution_count": 11,
   "id": "09f0c924",
   "metadata": {},
   "outputs": [
    {
     "name": "stdout",
     "output_type": "stream",
     "text": [
      "10은 1보다 큽니다.\n",
      "출력 끝\n"
     ]
    }
   ],
   "source": [
    "# 잘못된 조건설정\n",
    "#여러개의 elif 사용가능(가장 위에 있는 조건부터 순차적으로 검사한다)\n",
    "num = 10\n",
    "if num > 1:\n",
    "    print(f\"{num}은 1보다 큽니다.\")\n",
    "elif num > 3:\n",
    "    print(f\"{num}은 3보다 큽니다.\")\n",
    "elif num > 5:\n",
    "    print(f\"{num}은 5보다 큽니다.\")\n",
    "elif num > 7:\n",
    "    print(f\"{num}은 7보다 큽니다.\")\n",
    "elif num == 10:\n",
    "    print(f\"{num}은 10과 같습니다.\")\n",
    "else:\n",
    "    print(f\"{num}은 0보다 작습니다.\")\n",
    "print(\"출력 끝\")"
   ]
  },
  {
   "cell_type": "markdown",
   "id": "12646075",
   "metadata": {},
   "source": [
    "# if ~ if, if ~ elif의 차이"
   ]
  },
  {
   "cell_type": "code",
   "execution_count": 12,
   "id": "c2cc3bdf",
   "metadata": {},
   "outputs": [
    {
     "name": "stdout",
     "output_type": "stream",
     "text": [
      "4이 3보다 큽니다\n",
      "4이 0보다 큽니다\n",
      "if~if문 출력 끝\n",
      "\n",
      "\n",
      "4이 3보다 큽니다\n",
      "if~elif문 출력 끝\n"
     ]
    }
   ],
   "source": [
    "num = 4\n",
    "#if~if문의 경우\n",
    "if num > 3:\n",
    "    print(f\"{num}이 3보다 큽니다\")\n",
    "if num > 0:\n",
    "    print(f\"{num}이 0보다 큽니다\")\n",
    "print(\"if~if문 출력 끝\\n\\n\")\n",
    "\n",
    "#if~elif문의 경우\n",
    "if num > 3:\n",
    "    print(f\"{num}이 3보다 큽니다\")\n",
    "elif num > 0:\n",
    "    print(f\"{num}이 0보다 큽니다\")\n",
    "print(\"if~elif문 출력 끝\")"
   ]
  }
 ],
 "metadata": {
  "kernelspec": {
   "display_name": "Python 3 (ipykernel)",
   "language": "python",
   "name": "python3"
  },
  "language_info": {
   "codemirror_mode": {
    "name": "ipython",
    "version": 3
   },
   "file_extension": ".py",
   "mimetype": "text/x-python",
   "name": "python",
   "nbconvert_exporter": "python",
   "pygments_lexer": "ipython3",
   "version": "3.11.5"
  }
 },
 "nbformat": 4,
 "nbformat_minor": 5
}
