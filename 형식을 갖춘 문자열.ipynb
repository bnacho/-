{
 "cells": [
  {
   "cell_type": "markdown",
   "id": "6fcb4a5d",
   "metadata": {},
   "source": [
    "# 형식을 갖춘 문자열"
   ]
  },
  {
   "cell_type": "markdown",
   "id": "f607cfba",
   "metadata": {},
   "source": [
    "## %연산자"
   ]
  },
  {
   "cell_type": "code",
   "execution_count": 21,
   "id": "dcb0912a",
   "metadata": {},
   "outputs": [
    {
     "name": "stdout",
     "output_type": "stream",
     "text": [
      "num1은 10 이고 bo1는 True 입니다.\n",
      "num1은 10이고 bo1는 True, str1은 한국입니다..\n",
      "파이는 3.140000입니다.\n"
     ]
    }
   ],
   "source": [
    "# %연산자는 문자열에 변수를 같이 출력해야할 때 사용합니다.\n",
    "\n",
    "# 자료형        형식        지정자\n",
    "# int           %d          print('%d', %정수형)\n",
    "# float         %f          print('%f', %실수형)\n",
    "# bool          %s          print('%s', %논리형)\n",
    "# str           %s          print('%s', %문자열)\n",
    "\n",
    "# 변수와 문자열 같이 출력(%연산자 사용X)\n",
    "num1 = 10\n",
    "bo1 = True\n",
    "str1 = '한국'\n",
    "print('num1은', num1, '이고', 'bo1는', True, '입니다.')\n",
    "\n",
    "# 변수와 문자열 같이 출력(%연산자 사용O)\n",
    "print('num1은 %d이고 bo1는 %s, str1은 %s입니다..' %(num1, bo1, str1))\n",
    "print('파이는 %f입니다.' %3.14) # 변수뿐만 아니라 값도 출력할 수 있습니다.\n",
    "\n",
    "# 자료형과 형식이 서로 다르면 오류가 발생합니다.\n",
    "# print('num1은 %f입니다.'%str1) / 오류내용 : TypeError: must be real number, not str"
   ]
  },
  {
   "cell_type": "markdown",
   "id": "a890f55e",
   "metadata": {},
   "source": [
    "## str.format()"
   ]
  },
  {
   "cell_type": "code",
   "execution_count": 15,
   "id": "ba9a598e",
   "metadata": {},
   "outputs": [
    {
     "name": "stdout",
     "output_type": "stream",
     "text": [
      "파이는 3.14이고, 거짓은 False, USA는 미국입니다.\n",
      "파이는 미국이고, 거짓은 3.14, USA는 False입니다.\n",
      "파이는 3.14이고, 거짓은 False, USA는 미국입니다.\n"
     ]
    }
   ],
   "source": [
    "# %연산자는 자료형에 따라 형식이 다르지만 str.format()은 형식에 상관없이 동일한 방법으로 사용할 수 있습니다.\n",
    "\n",
    "# print('문자열 {}'.format(변수 or 값)) / {}안에 변수 or값이 들어가게 됩니다.\n",
    "num1 = 3.14\n",
    "bo1 = False\n",
    "str1 = '미국'\n",
    "\n",
    "print('파이는 {}이고, 거짓은 {}, USA는 {}입니다.'.format(num1, bo1, str1))\n",
    "\n",
    "# str.format()은 번호와 별명을 부여할 수 있습니다.\n",
    "\n",
    "# 번호를 부여한 예시\n",
    "print('파이는 {2}이고, 거짓은 {0}, USA는 {1}입니다.'.format(num1, bo1, str1)) # 인덱스 번호와 비슷하다고 생각하면 됩니다.\n",
    "                                                        #    0     1    2\n",
    "    \n",
    "# 별명을 부여한 예시\n",
    "print('파이는 {pi}이고, 거짓은 {fa}, USA는 {america}입니다.'.format(fa = bo1, pi = num1, america = str1))\n",
    "\n",
    "# 별명을 부여할 때 fa = bo1, pi = num1 등은 변수 생성과는 다릅니다.\n",
    "# 변수로 사용하려고 하면 오류가 발생합니다.\n",
    "\n",
    "# print(fa) / 오류내용 : NameError: name 'fa' is not defined"
   ]
  },
  {
   "cell_type": "markdown",
   "id": "de337f0b",
   "metadata": {},
   "source": [
    "## f-string()"
   ]
  },
  {
   "cell_type": "code",
   "execution_count": 18,
   "id": "d1366951",
   "metadata": {},
   "outputs": [
    {
     "name": "stdout",
     "output_type": "stream",
     "text": [
      "이름은 홍길동, 나이는 123살, 국적은 Korea입니다.\n",
      "이름은 짱구, 나이는 5살, 국적은 일본입니다.\n"
     ]
    }
   ],
   "source": [
    "# f-string은 str.format()보다 읽기 편한 방법입니다.\n",
    "# print(f\"문자열 {변수명 or 값}\")\n",
    "\n",
    "# f-sring()을 이용한 출력\n",
    "name = '홍길동'\n",
    "age = 123\n",
    "country = 'Korea'\n",
    "    \n",
    "print(f\"이름은 {name}, 나이는 {age}살, 국적은 {country}입니다.\") # 변수 출력\n",
    "print(f\"이름은 {'짱구'}, 나이는 {5}살, 국적은 {'일본'}입니다.\") # 값 출력"
   ]
  },
  {
   "cell_type": "markdown",
   "id": "c14f3654",
   "metadata": {},
   "source": [
    "## 형식을 갖춘 문자열들의 기능들"
   ]
  },
  {
   "cell_type": "code",
   "execution_count": 24,
   "id": "5c84388b",
   "metadata": {},
   "outputs": [
    {
     "name": "stdout",
     "output_type": "stream",
     "text": [
      "3.1\n",
      "3.1\n",
      "3.1\n",
      "hello\n",
      "he\n",
      "h\n",
      "h\n",
      "hel\n"
     ]
    }
   ],
   "source": [
    "# 실수형을 특정 소수점이하 자리수까지 출력하기\n",
    "print(\"%.1f\" %3.14)\n",
    "print(\"{0:.1f}\".format(3.14))\n",
    "print(f\"{3.14:.1f}\")\n",
    "\n",
    "#문자열을 특정 소수점이하까지 출력하게 되면 해당 글자까지 출력해준다.\n",
    "data = \"hello\"\n",
    "print(\"%.21s\" %data)\n",
    "\n",
    "print(\"{:.2s}\".format(data))#문자열 1자리만 출력\n",
    "print(\"{}\".format(data[0])) #인덱스이용\n",
    "\n",
    "print(f\"{data[0]}\")         #인덱스이용\n",
    "print(f\"{data:.3s}\")        #문자열 1자리만 출력"
   ]
  },
  {
   "cell_type": "code",
   "execution_count": null,
   "id": "7ad659eb",
   "metadata": {},
   "outputs": [],
   "source": []
  },
  {
   "cell_type": "code",
   "execution_count": null,
   "id": "99b37f36",
   "metadata": {},
   "outputs": [],
   "source": []
  },
  {
   "cell_type": "code",
   "execution_count": null,
   "id": "04e2273c",
   "metadata": {},
   "outputs": [],
   "source": []
  },
  {
   "cell_type": "code",
   "execution_count": null,
   "id": "3e07c1ff",
   "metadata": {},
   "outputs": [],
   "source": []
  },
  {
   "cell_type": "code",
   "execution_count": null,
   "id": "bf1582c1",
   "metadata": {},
   "outputs": [],
   "source": []
  },
  {
   "cell_type": "code",
   "execution_count": null,
   "id": "004fd81b",
   "metadata": {},
   "outputs": [],
   "source": []
  },
  {
   "cell_type": "code",
   "execution_count": null,
   "id": "f1132e88",
   "metadata": {},
   "outputs": [],
   "source": []
  },
  {
   "cell_type": "code",
   "execution_count": null,
   "id": "f1358ddb",
   "metadata": {},
   "outputs": [],
   "source": []
  },
  {
   "cell_type": "code",
   "execution_count": null,
   "id": "c68e9b01",
   "metadata": {},
   "outputs": [],
   "source": []
  },
  {
   "cell_type": "code",
   "execution_count": null,
   "id": "275bbfe0",
   "metadata": {},
   "outputs": [],
   "source": []
  }
 ],
 "metadata": {
  "kernelspec": {
   "display_name": "Python 3 (ipykernel)",
   "language": "python",
   "name": "python3"
  },
  "language_info": {
   "codemirror_mode": {
    "name": "ipython",
    "version": 3
   },
   "file_extension": ".py",
   "mimetype": "text/x-python",
   "name": "python",
   "nbconvert_exporter": "python",
   "pygments_lexer": "ipython3",
   "version": "3.11.5"
  }
 },
 "nbformat": 4,
 "nbformat_minor": 5
}
