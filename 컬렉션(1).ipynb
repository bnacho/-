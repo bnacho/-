{
 "cells": [
  {
   "cell_type": "markdown",
   "id": "5b6252a0",
   "metadata": {},
   "source": [
    "# 컬렉션에 대해 기초만 작성했습니다."
   ]
  },
  {
   "cell_type": "markdown",
   "id": "474a2bfa",
   "metadata": {},
   "source": [
    "## list"
   ]
  },
  {
   "cell_type": "code",
   "execution_count": 3,
   "id": "3084152f",
   "metadata": {},
   "outputs": [
    {
     "name": "stdout",
     "output_type": "stream",
     "text": [
      "[1, 1, 1, 'python', 1.1, True] <class 'list'>\n",
      "1 <class 'int'>\n",
      "True <class 'bool'>\n",
      "[1, 'python'] <class 'list'>\n",
      "[True] <class 'list'>\n"
     ]
    }
   ],
   "source": [
    "# 리스트는 대괄호를 사용하며 여러 자료형의 값들을 저장할 수 있습니다.\n",
    "li1 = [1, 1, 1, 'python', 1.1, True]\n",
    "print(li1, type(li1)) # [1, 1, 1, 'python', 1.1, True] <class 'list'>\n",
    "\n",
    "# 리스트의 인덱싱(해당 요소의 자료형을 유지하며 출력됩니다.)\n",
    "print(li1[0], type(li1[0]))\n",
    "print(li1[-1], type(li1[-1]))\n",
    "\n",
    "# 리스트의 슬라이싱(리스트 자료형으로 출력됩니다.)\n",
    "print(li1[2:4], type(li1[2:4]))\n",
    "print(li1[-1:],type(li1[-1:]))"
   ]
  },
  {
   "cell_type": "code",
   "execution_count": 6,
   "id": "4712161d",
   "metadata": {},
   "outputs": [
    {
     "name": "stdout",
     "output_type": "stream",
     "text": [
      "[1, 2, 3, 4, 5.5, True, 'Korea', False, 2, 0.2]\n",
      "[1, 2, 3, 4, 5.5, True, 1, 2, 3, 4, 5.5, True, 1, 2, 3, 4, 5.5, True]\n",
      "['Korea', False, 2, 0.2, 'Korea', False, 2, 0.2]\n"
     ]
    }
   ],
   "source": [
    "# 리스트의 시퀀스 연산\n",
    "li1 = [1, 2, 3, 4, 5.5, True]\n",
    "li2 = ['Korea', False, 2, 0.2]\n",
    "\n",
    "# 연결\n",
    "print(li1 + li2)\n",
    "\n",
    "# 반복\n",
    "print(li1 * 3)\n",
    "print(li2 * 2)"
   ]
  },
  {
   "cell_type": "markdown",
   "id": "ede56ff7",
   "metadata": {},
   "source": [
    "## tuple"
   ]
  },
  {
   "cell_type": "code",
   "execution_count": 12,
   "id": "210bc292",
   "metadata": {},
   "outputs": [
    {
     "name": "stdout",
     "output_type": "stream",
     "text": [
      "(1, 2, 3, 'Korea', 3.4, False) <class 'tuple'>\n",
      "(True, 6, 1, 3, 2.5, 'USA') <class 'tuple'>\n",
      "True 6 1 3 2.5 USA\n"
     ]
    }
   ],
   "source": [
    "# 튜플은 소괄호를 사용하며 여러 자료형의 값들을 담을 수 있습니다.(리스트와 달리 수정 등이 불가합니다.)\n",
    "\n",
    "tu1 = (1, 2, 3, 'Korea', 3.4, False)\n",
    "print(tu1, type(tu1)) # (1, 2, 3, 'Korea', 3.4, False) <class 'tuple'>\n",
    "\n",
    "# 튜플의 패킹\n",
    "# 소괄호를 사용하지 않아도 자동으로 튜플로 묶어줍니다.\n",
    "tu2 = True, 6, 1, 3, 2.5, 'USA'\n",
    "print(tu2, type(tu2)) # (True, 6, 1, 3, 2.5, 'USA') <class 'tuple'>\n",
    "\n",
    "# 튜플의 언패킹\n",
    "# 순서대로 각각의 변수에 값을 저장해줍니다.\n",
    "a, b, c, d, e, f = tu2\n",
    "print(a, b, c, d, e, f) \n",
    "\n",
    "# 변수의 개수가 튜플 내 값의 개수와 다를 때 오류가 발생합니다.\n",
    "# a, b, c = tu1 / 오류내용 :  ValueError: too many values to unpack (expected 3)"
   ]
  },
  {
   "cell_type": "code",
   "execution_count": 13,
   "id": "86562fbb",
   "metadata": {},
   "outputs": [
    {
     "name": "stdout",
     "output_type": "stream",
     "text": [
      "(1, 2, 3, 'Korea', 3.4, False, True, 6, 1, 3, 2.5, 'USA')\n",
      "(1, 2, 3, 'Korea', 3.4, False, 1, 2, 3, 'Korea', 3.4, False, 1, 2, 3, 'Korea', 3.4, False)\n",
      "(True, 6, 1, 3, 2.5, 'USA', True, 6, 1, 3, 2.5, 'USA')\n"
     ]
    }
   ],
   "source": [
    "# 튜플의 시퀀스 연산\n",
    "\n",
    "# 연결\n",
    "print(tu1 + tu2)\n",
    "\n",
    "# 반복\n",
    "print(tu1 * 3)\n",
    "print(tu2 * 2)"
   ]
  },
  {
   "cell_type": "markdown",
   "id": "81ebf808",
   "metadata": {},
   "source": [
    "## list와 tuple의 형변환"
   ]
  },
  {
   "cell_type": "code",
   "execution_count": 16,
   "id": "1fabe78d",
   "metadata": {},
   "outputs": [
    {
     "name": "stdout",
     "output_type": "stream",
     "text": [
      "[1, 2, 3, 4, 5.5, True] <class 'list'>\n",
      "(1, 2, 3, 'Korea', 3.4, False) <class 'tuple'>\n",
      "(1, 2, 3, 4, 5.5, True) <class 'tuple'>\n",
      "[1, 2, 3, 'Korea', 3.4, False] <class 'list'>\n"
     ]
    }
   ],
   "source": [
    "# list()함수와 tuple()함수로 형변환이 가능합니다.\n",
    "li1 = [1, 2, 3, 4, 5.5, True]\n",
    "tu1 = (1, 2, 3, 'Korea', 3.4, False)\n",
    "\n",
    "# 형변환 전\n",
    "print(li1, type(li1)) #리스트\n",
    "print(tu1, type(tu1)) #튜플\n",
    "\n",
    "# 형변환 후\n",
    "print(tuple(li1), type(tuple(li1))) # (1, 2, 3, 4, 5.5, True) <class 'tuple'>\n",
    "print(list(tu1), type(list(tu1))) # [1, 2, 3, 'Korea', 3.4, False] <class 'list'>"
   ]
  },
  {
   "cell_type": "markdown",
   "id": "168870b3",
   "metadata": {},
   "source": [
    "## set"
   ]
  },
  {
   "cell_type": "code",
   "execution_count": 17,
   "id": "30fd8dad",
   "metadata": {},
   "outputs": [
    {
     "name": "stdout",
     "output_type": "stream",
     "text": [
      "{0.5, '가', 2, 3, 1, False, '나'} <class 'set'>\n"
     ]
    }
   ],
   "source": [
    "# set는 여러 자료형의 값들을 허용하되, 중복값은 허용하지 않는 자료형입니다.(인덱스 번호가 부여되지 않음)\n",
    "# 중괄호를 사용합니다.\n",
    "\n",
    "se1 = {1, 2, 3, 1, 2, 3, \"가\", \"나\", 0.5, False}\n",
    "\n",
    "# 중복값 허용X, 순서X\n",
    "print(se1, type(se1)) # 인덱스 번호(순서)가 없기 때문에 순서가 무작위로 출력됩니다.\n",
    "\n",
    "# 인덱스번호X\n",
    "# print(se1[0], type(se1[0])) / TypeError: 'set' object is not subscriptable\n",
    "\n",
    "#시퀀스 연산자 사용 불가\n",
    "# print(se1 + se2) #TypeError: unsupported operand type(s) for +: 'set' and 'set'"
   ]
  },
  {
   "cell_type": "markdown",
   "id": "ac210c12",
   "metadata": {},
   "source": [
    "## dict"
   ]
  },
  {
   "cell_type": "code",
   "execution_count": 20,
   "id": "d560d8a3",
   "metadata": {},
   "outputs": [
    {
     "name": "stdout",
     "output_type": "stream",
     "text": [
      "{1: ['짱구', '철수'], 2: ('짱구', '철수'), 3: '훈이'} <class 'dict'>\n",
      "{1: '짱구', 2: '철수', 3: '훈이'} <class 'dict'>\n",
      "짱구 <class 'str'>\n",
      "철수 <class 'str'>\n",
      "훈이 <class 'str'>\n",
      "dict_keys([1, 2, 3]) <class 'dict_keys'>\n",
      "dict_values(['짱구', '철수', '훈이']) <class 'dict_values'>\n",
      "dict_items([(1, '짱구'), (2, '철수'), (3, '훈이')]) <class 'builtin_function_or_method'>\n"
     ]
    }
   ],
   "source": [
    "# dict은 key와 value로 구성되어 있으며 set와 동일하게 중괄호를 사용합니다.\n",
    "# key값이 인덱스번호 역할을 하여 value값은 중복값을 허용하고 인덱싱이 가능합니다.\n",
    "\n",
    "di1 = {1:['짱구', '철수'], 2:('짱구','철수'), 3:'훈이'}\n",
    "print(di1, type(di1))\n",
    "\n",
    "di1 = {1:'짱구', 2:'철수', 3:'훈이'}\n",
    "print(di1, type(di1))\n",
    "\n",
    "print(di1[1], type(di1[1]))\n",
    "print(di1[2], type(di1[2]))\n",
    "print(di1[3], type(di1[3]))\n",
    "\n",
    "# .keys() : key값들만 리스트로 묶어서 반환\n",
    "print(di1.keys(), type(di1.keys())) \n",
    "\n",
    "# .values() : value값들만 리스트로 묶어서 반환\n",
    "print(di1.values(), type(di1.values()))\n",
    "\n",
    "# .items() : (key, value)과 같은 튜플 형태로, 리스트로 묶어서 반환\n",
    "print(di1.items(), type(di1.items)) "
   ]
  }
 ],
 "metadata": {
  "kernelspec": {
   "display_name": "Python 3 (ipykernel)",
   "language": "python",
   "name": "python3"
  },
  "language_info": {
   "codemirror_mode": {
    "name": "ipython",
    "version": 3
   },
   "file_extension": ".py",
   "mimetype": "text/x-python",
   "name": "python",
   "nbconvert_exporter": "python",
   "pygments_lexer": "ipython3",
   "version": "3.11.5"
  }
 },
 "nbformat": 4,
 "nbformat_minor": 5
}
