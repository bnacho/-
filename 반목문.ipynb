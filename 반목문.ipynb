{
 "cells": [
  {
   "cell_type": "markdown",
   "id": "f1053384",
   "metadata": {},
   "source": [
    "# while문"
   ]
  },
  {
   "cell_type": "code",
   "execution_count": 2,
   "id": "875caf5b",
   "metadata": {},
   "outputs": [
    {
     "name": "stdout",
     "output_type": "stream",
     "text": [
      "안녕하세요\n",
      "while문 끝\n"
     ]
    }
   ],
   "source": [
    "# while문은 조건식이 참이면 반복하고, 거짓이면 반복을 멈춥니다.\n",
    "\n",
    "while True: # 이 반복문은 무한으로 반복되므로 무한루프라고 합니다.\n",
    "    print(\"안녕하세요\")\n",
    "    break # 무한루프는 무한으로 반복되기 때문에 기타제어문을 써서 반복을 즉시 종료합니다.\n",
    "print('while문 끝')"
   ]
  },
  {
   "cell_type": "code",
   "execution_count": 3,
   "id": "5898952b",
   "metadata": {},
   "outputs": [
    {
     "name": "stdout",
     "output_type": "stream",
     "text": [
      "while문 끝\n"
     ]
    }
   ],
   "source": [
    "# 조건식의 결과가 거짓이면 반복하지 않으므로 while문 안의 문장이 실행되지 않습니다.\n",
    "\n",
    "while False:\n",
    "    print('안녕하세요')\n",
    "print('while문 끝')"
   ]
  },
  {
   "cell_type": "code",
   "execution_count": 4,
   "id": "932e3677",
   "metadata": {},
   "outputs": [
    {
     "name": "stdout",
     "output_type": "stream",
     "text": [
      "1\n",
      "2\n",
      "3\n",
      "4\n",
      "5\n",
      "6\n",
      "7\n",
      "8\n",
      "9\n",
      "끝\n"
     ]
    }
   ],
   "source": [
    "# while문의 사용 예시\n",
    "\n",
    "num = 1\n",
    "\n",
    "while num < 10:\n",
    "    print(num)\n",
    "    num += 1\n",
    "print(\"끝\")"
   ]
  },
  {
   "cell_type": "code",
   "execution_count": 5,
   "id": "d7514e7e",
   "metadata": {},
   "outputs": [
    {
     "name": "stdout",
     "output_type": "stream",
     "text": [
      "1은 홀수입니다.\n",
      "2은 짝수입니다.\n",
      "3은 홀수입니다.\n",
      "4은 짝수입니다.\n",
      "5은 홀수입니다.\n",
      "6은 짝수입니다.\n",
      "7은 홀수입니다.\n",
      "8은 짝수입니다.\n",
      "9은 홀수입니다.\n",
      "while문 끝\n"
     ]
    }
   ],
   "source": [
    "# while문과 조건문을 같이 사용 - 짝수, 홀수 판별\n",
    "\n",
    "num = 1\n",
    "\n",
    "while num < 10:\n",
    "    if num % 2 == 0:\n",
    "        print(f\"{num}은 짝수입니다.\")\n",
    "    else:\n",
    "        print(f\"{num}은 홀수입니다.\")\n",
    "    num += 1\n",
    "print('while문 끝')"
   ]
  },
  {
   "cell_type": "markdown",
   "id": "4d585e14",
   "metadata": {},
   "source": [
    "# for문"
   ]
  },
  {
   "cell_type": "code",
   "execution_count": 6,
   "id": "b6b7ac96",
   "metadata": {},
   "outputs": [
    {
     "name": "stdout",
     "output_type": "stream",
     "text": [
      "안\n",
      "녕\n",
      "하\n",
      "세\n",
      "요\n",
      "안녕\n",
      "hello\n",
      "1\n",
      "2\n",
      "3\n",
      "4\n",
      "겨울\n",
      "여름\n",
      "봄\n",
      "가을\n"
     ]
    }
   ],
   "source": [
    "# for문은 정해진 횟수만큼 반복하는 반복문입니다.\n",
    "\n",
    "for i in '안녕하세요': # 이 때 i에는 안, 녕, 하, 세, 요가 순서대로 들어가게 됩니다.\n",
    "    print(i)\n",
    "    \n",
    "for i in ['안녕', 'hello']: # 안녕, hello가 i에 순서대로 들어가게 됩니다.\n",
    "    print(i)\n",
    "    \n",
    "for i in 1, 2, 3, 4: # 1, 2, 3, 4가 순서대로 i에 들어가게 됩니다.\n",
    "    print(i)\n",
    "    \n",
    "for i in {'봄', '여름', '가을', '겨울'}: # set는 순서가 없으므로 랜덤으로 출력되게 됩니다.\n",
    "    print(i)"
   ]
  },
  {
   "cell_type": "code",
   "execution_count": 15,
   "id": "3c494977",
   "metadata": {},
   "outputs": [
    {
     "name": "stdout",
     "output_type": "stream",
     "text": [
      "1 * 1 = 1\n",
      "1 * 2 = 2\n",
      "1 * 3 = 3\n",
      "1 * 4 = 4\n",
      "1 * 5 = 5\n",
      "1 * 6 = 6\n",
      "1 * 7 = 7\n",
      "1 * 8 = 8\n",
      "1 * 9 = 9\n",
      "2 * 1 = 2\n",
      "2 * 2 = 4\n",
      "2 * 3 = 6\n",
      "2 * 4 = 8\n",
      "2 * 5 = 10\n",
      "2 * 6 = 12\n",
      "2 * 7 = 14\n",
      "2 * 8 = 16\n",
      "2 * 9 = 18\n",
      "3 * 1 = 3\n",
      "3 * 2 = 6\n",
      "3 * 3 = 9\n",
      "3 * 4 = 12\n",
      "3 * 5 = 15\n",
      "3 * 6 = 18\n",
      "3 * 7 = 21\n",
      "3 * 8 = 24\n",
      "3 * 9 = 27\n",
      "4 * 1 = 4\n",
      "4 * 2 = 8\n",
      "4 * 3 = 12\n",
      "4 * 4 = 16\n",
      "4 * 5 = 20\n",
      "4 * 6 = 24\n",
      "4 * 7 = 28\n",
      "4 * 8 = 32\n",
      "4 * 9 = 36\n",
      "5 * 1 = 5\n",
      "5 * 2 = 10\n",
      "5 * 3 = 15\n",
      "5 * 4 = 20\n",
      "5 * 5 = 25\n",
      "5 * 6 = 30\n",
      "5 * 7 = 35\n",
      "5 * 8 = 40\n",
      "5 * 9 = 45\n",
      "6 * 1 = 6\n",
      "6 * 2 = 12\n",
      "6 * 3 = 18\n",
      "6 * 4 = 24\n",
      "6 * 5 = 30\n",
      "6 * 6 = 36\n",
      "6 * 7 = 42\n",
      "6 * 8 = 48\n",
      "6 * 9 = 54\n",
      "7 * 1 = 7\n",
      "7 * 2 = 14\n",
      "7 * 3 = 21\n",
      "7 * 4 = 28\n",
      "7 * 5 = 35\n",
      "7 * 6 = 42\n",
      "7 * 7 = 49\n",
      "7 * 8 = 56\n",
      "7 * 9 = 63\n",
      "8 * 1 = 8\n",
      "8 * 2 = 16\n",
      "8 * 3 = 24\n",
      "8 * 4 = 32\n",
      "8 * 5 = 40\n",
      "8 * 6 = 48\n",
      "8 * 7 = 56\n",
      "8 * 8 = 64\n",
      "8 * 9 = 72\n",
      "9 * 1 = 9\n",
      "9 * 2 = 18\n",
      "9 * 3 = 27\n",
      "9 * 4 = 36\n",
      "9 * 5 = 45\n",
      "9 * 6 = 54\n",
      "9 * 7 = 63\n",
      "9 * 8 = 72\n",
      "9 * 9 = 81\n"
     ]
    }
   ],
   "source": [
    "# 이중 for문 - 구구단\n",
    "# range함수는 밑에서 배우나 이중for문을 설명하기 위해 미리 사용하겠습니다.\n",
    "\n",
    "for dan in range(1,10):       #단 설정\n",
    "    for j in range(1,10):     #곱해지는 수 설정\n",
    "        print(f\"{dan} * {j} = {dan * j}\")"
   ]
  },
  {
   "cell_type": "markdown",
   "id": "bcb95e77",
   "metadata": {},
   "source": [
    "# range함수"
   ]
  },
  {
   "cell_type": "code",
   "execution_count": 14,
   "id": "f7c5976d",
   "metadata": {},
   "outputs": [
    {
     "name": "stdout",
     "output_type": "stream",
     "text": [
      "0 1 2 3 4 5 6 7 8 9 \n",
      "0 1 2 3 4 5 6 7 8 9 \n",
      "0 1 2 3 4 5 6 7 8 9 \n",
      "10 7 4 1 -2 -5 -8 -11 -14 -17 "
     ]
    }
   ],
   "source": [
    "# range()함수는 범위를 정할 수 있는 함수로 시작값, 종료값, 스텝값이 들어가게 됩니다.\n",
    "# 범위를 정하는 함수로, for문과 같이 쓰는 경우가 많습니다.\n",
    "\n",
    "for i in range(0, 10, 1):\n",
    "    print(i, end = ' ')\n",
    "print()\n",
    "    \n",
    "# 스텝값이 1이라면 생략할 수 있습니다.\n",
    "for i in range(0, 10):\n",
    "    print(i, end = ' ')\n",
    "print()\n",
    "\n",
    "# 시작값이 0이라면 생략할 수 있습니다.\n",
    "for i in range(10):\n",
    "    print(i, end = ' ')\n",
    "print()\n",
    "\n",
    "# 시작값에서 시작해서 (종료값-1)이 될 때까지 스텝값을 계속 더해준다고 생각하면 됩니다.\n",
    "# 즉, 음수도 가능합니다.\n",
    "\n",
    "for i in range(10, -20, -3):\n",
    "    print(i, end = ' ')"
   ]
  },
  {
   "cell_type": "code",
   "execution_count": 17,
   "id": "d0a6a119",
   "metadata": {},
   "outputs": [
    {
     "name": "stdout",
     "output_type": "stream",
     "text": [
      "* \n",
      "* * \n",
      "* * * \n",
      "* * * * \n",
      "* * * * * \n"
     ]
    }
   ],
   "source": [
    "# 이중for문과 range함수를 사용해 역삼각형 별 찍기\n",
    " \n",
    "for i in range(5): # 첫번째 for문으로 별의 개수 설정 / 0부터 시작하는 것 유의!!\n",
    "    for j in range(i+1): # 두번째 for문으로 i+1개의 별을 출력(i가 0부터 시작하므로 1을 더해줍닏다.)\n",
    "        print(\"*\",end = ' ')\n",
    "    print() # 출력하고 줄바꿈"
   ]
  }
 ],
 "metadata": {
  "kernelspec": {
   "display_name": "Python 3 (ipykernel)",
   "language": "python",
   "name": "python3"
  },
  "language_info": {
   "codemirror_mode": {
    "name": "ipython",
    "version": 3
   },
   "file_extension": ".py",
   "mimetype": "text/x-python",
   "name": "python",
   "nbconvert_exporter": "python",
   "pygments_lexer": "ipython3",
   "version": "3.11.5"
  }
 },
 "nbformat": 4,
 "nbformat_minor": 5
}
