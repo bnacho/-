{
 "cells": [
  {
   "cell_type": "markdown",
   "id": "eabf05ff",
   "metadata": {},
   "source": [
    "# list"
   ]
  },
  {
   "cell_type": "code",
   "execution_count": 11,
   "id": "d0218376",
   "metadata": {},
   "outputs": [
    {
     "name": "stdout",
     "output_type": "stream",
     "text": [
      "[] <class 'list'>\n",
      "[] <class 'list'>\n",
      "[1, 3, 5, 7]\n",
      "[9, 11]\n",
      "[1, 3, 5, 7, 9, 11]\n",
      "[1, 3, 5, 7, 9, 11]\n"
     ]
    }
   ],
   "source": [
    "# 빈 리스트 생성하기 : list()\n",
    "li1 = [] # 빈 대괄호로도 빈 리스트 생성 가능\n",
    "li2 = list() # list()함수로 빈 리스트 생성 가능\n",
    "\n",
    "print(li1, type(li1))\n",
    "print(li2, type(li2))\n",
    "\n",
    "# 값 추가 (.append(), .insert(idx, 값))\n",
    "\n",
    "# .append()\n",
    "li1.append(1)\n",
    "li1.append(3)\n",
    "li1.append(5)\n",
    "li1.append(7)\n",
    "\n",
    "print(li1)\n",
    "\n",
    "# .insert(idx, 값)\n",
    "li2.insert(0, 9)\n",
    "li2.insert(1,11)\n",
    "\n",
    "print(li2)\n",
    "\n",
    "# 리스트끼리 연결(+, .extend())\n",
    "\n",
    "# +\n",
    "print(li1 + li2) # 원본에는 영향X\n",
    "\n",
    "# .extend()\n",
    "li1.extend(li2) # 원본이 변경됨\n",
    "print(li1)"
   ]
  },
  {
   "cell_type": "code",
   "execution_count": 18,
   "id": "fd2f139e",
   "metadata": {},
   "outputs": [
    {
     "name": "stdout",
     "output_type": "stream",
     "text": [
      "[3, 5, 7, 9, 11]\n",
      "[]\n"
     ]
    }
   ],
   "source": [
    "# 값 제거(.remove(), .pop())\n",
    "\n",
    "# remove()\n",
    "# li1.remove(1)\n",
    "print(li1)\n",
    "\n",
    "# 없는 값을 제거하려 하면 오류 발생\n",
    "# li1.remove(111) / 오류내용 : ValueError: list.remove(x): x not in list\n",
    "\n",
    "# .pop(idx) / 없는 인덱스를 제거하려하면 오류 발생\n",
    "# li2.pop(0)\n",
    "print(li2)"
   ]
  },
  {
   "cell_type": "code",
   "execution_count": 25,
   "id": "3f812523",
   "metadata": {},
   "outputs": [
    {
     "name": "stdout",
     "output_type": "stream",
     "text": [
      "[2, 7, 123, 543]\n",
      "[1023, 654, 7, 1]\n",
      "[2, 7, 123, 543]\n",
      "[1023, 654, 7, 1]\n"
     ]
    }
   ],
   "source": [
    "# 오름차순, 내림차순 정렬(sorted(), .sort())\n",
    "\n",
    "li1 = [123, 2, 7, 543]\n",
    "li2 = [1023, 654, 7, 1]\n",
    "\n",
    "# sorted()\n",
    "print(sorted(li1)) #오름차순 정렬\n",
    "print(sorted(li2, reverse = True)) # 내림차순 정렬\n",
    "\n",
    "# .sort()\n",
    "li1 = [123, 2, 7, 543]\n",
    "li2 = [1023, 654, 7, 1]\n",
    "\n",
    "li1.sort() # 오름차순 정렬\n",
    "print(li1)\n",
    "\n",
    "li2.sort(reverse = True) #내림차순 정렬\n",
    "print(li2)\n",
    "\n"
   ]
  },
  {
   "cell_type": "markdown",
   "id": "bc22504f",
   "metadata": {},
   "source": [
    "# tuple"
   ]
  },
  {
   "cell_type": "code",
   "execution_count": 3,
   "id": "9d523efa",
   "metadata": {},
   "outputs": [
    {
     "name": "stdout",
     "output_type": "stream",
     "text": [
      "() <class 'tuple'>\n",
      "1 <class 'int'>\n",
      "(1,) <class 'tuple'>\n",
      "(1, 1, 1, 1, 2, 2, 2, 3, 3, 4, 4, 4, 4, 4, 1)\n",
      "5\n",
      "14\n"
     ]
    }
   ],
   "source": [
    "# 튜플은 추가, 수정, 삭제가 안되는 읽기 전용 리스트이므로 추가, 수정, 삭제 메소드 및 함수를 사용할 수 없다.\n",
    "\n",
    "tu = () #비어 있는 튜플은 비어있는 소괄호로 생성이 가능하다.\n",
    "print(tu, type(tu)) \n",
    "\n",
    "tu2 = (1) # 원소가 하나만 있는 튜플은 쉼표를 사용해야한다. 사용하지 않으면 다른 자료형으로 인식한다.\n",
    "print(tu2, type(tu2))\n",
    "\n",
    "tu2 = (1,)\n",
    "print(tu2, type(tu2))\n",
    "\n",
    "# 값 개수 세기(.count())\n",
    "tu1 = 1, 1, 1, 1, 2, 2, 2, 3, 3, 4, 4, 4, 4, 4, 1\n",
    "print(tu1)\n",
    "\n",
    "count_num = tu1.count(1) # 1이 몇개 있는지 반환\n",
    "print(count_num) # 5\n",
    "\n",
    "# .index(값, idx) : idx값 이후에 있는 특정 값의 인덱스 번호를 반환\n",
    "idx_num = tu1.index(1, 5)\n",
    "print(idx_num)"
   ]
  },
  {
   "cell_type": "markdown",
   "id": "830d0e36",
   "metadata": {},
   "source": [
    "# set"
   ]
  },
  {
   "cell_type": "code",
   "execution_count": 5,
   "id": "b82fed21",
   "metadata": {},
   "outputs": [
    {
     "name": "stdout",
     "output_type": "stream",
     "text": [
      "{} <class 'dict'>\n",
      "set() <class 'set'>\n"
     ]
    }
   ],
   "source": [
    "# 세트는 인덱스번호가 부여되지 않아 인덱싱, 슬라이싱 등이 불가하다.\n",
    "se1 = {} # 비어있는 세트는 비어있는 중괄호로 생성이 불가하다. 딕셔너리로 인식한다.\n",
    "print(se1, type(se1))\n",
    "\n",
    "se1 = set() #set함수로만 생성 가능하다.\n",
    "print(se1, type(se1))"
   ]
  },
  {
   "cell_type": "code",
   "execution_count": 25,
   "id": "e6000a1f",
   "metadata": {},
   "outputs": [
    {
     "name": "stdout",
     "output_type": "stream",
     "text": [
      "{'사과', '귤', '참외', '망고'} <class 'set'>\n",
      "{'참외', '귤', '망고', '사과', '포도'}\n",
      "{'참외', '귤', '망고', '사과', '포도'}\n",
      "{'참외', '귤', '망고', '사과'}\n",
      "{'참외', '귤', '망고', '사과'}\n",
      "{'참외', '귤', '망고'}\n",
      "{'귤', '망고'}\n"
     ]
    }
   ],
   "source": [
    "se1 = {'사과', '참외', '귤', '망고'}\n",
    "print(se1, type(se1))\n",
    "\n",
    "# 추가 메소드(.add())\n",
    "se1.add('포도') # 중복되지 않는 값은 추가된다.\n",
    "print(se1)\n",
    "\n",
    "se1.add('참외') # 중복된 값은 추가되지 않는다.\n",
    "print(se1)\n",
    "\n",
    "# 삭제 메소드(.remove(), .discard(), .pop())\n",
    "\n",
    "# .remove()\n",
    "# se1.remove('한라봉') / 오류내용 : KeyError: '한라봉' / 발생이유 : 없는 값을 삭제하려고 하면 오류가 발생한다.\n",
    "se1.remove('포도')\n",
    "print(se1)\n",
    "\n",
    "# .discard()\n",
    "se1.discard('한라봉') # .remove()와 달리 없는 값을 삭제하려고 해도 오류가 발생하지 않는다.\n",
    "print(se1)\n",
    "\n",
    "se1.discard('사과')\n",
    "print(se1)\n",
    "\n",
    "# .pop()\n",
    "se1.pop() # 빈 세트에 사용하면 오류가 발생한다.\n",
    "print(se1)"
   ]
  },
  {
   "cell_type": "code",
   "execution_count": null,
   "id": "4a6dfa73",
   "metadata": {},
   "outputs": [],
   "source": [
    "# 세트는 수학에서의 집합 개념과 같으므로 집합 연산을 사용할 수 있다.\n",
    "\n",
    "se1 = {'포도', '바나나', '사과'}\n",
    "se2 = {'포도', '배', '참외', '복숭아'}\n",
    "\n",
    "print(se1, type(se1))\n",
    "print(se2, type(se2))\n",
    "\n",
    "# 교집합 세트1 & 세트2\n",
    "print(f\"교집합 : {se1 & se2}\")\n",
    "\n",
    "# 교집합 메소드 .intersection()\n",
    "intersection_set = se1.intersection(se2)\n",
    "print(f\"교집합 메소드 사용 : {intersection_set}\")\n",
    "\n",
    "# 합집합 세트1 | 세트2\n",
    "print(f\"합집합 : {se1 | se2}\")\n",
    "print(f\"합집합 : {se1 | se2}\")\n",
    "\n",
    "union_set = se1.union(se2)\n",
    "print(f\"합집합 메소드 사용 : {union_set}\")\n",
    "\n",
    "# 차집합 세트1 - 세트2, 세트2 - 세트1\n",
    "print(f\"차집합 : {se1 - se2}\")\n",
    "print(f\"차집합 : {se2 - se1}\")\n",
    "\n",
    "# 차집합 메소드 difference()\n",
    "diff_set = se1.difference(se2)\n",
    "print(f\"차집합 메소드 사용 : {diff_set}\")\n",
    "diff_set = se2.difference(se1)\n",
    "print(f\"차집합 메소드 사용 : {diff_set}\")"
   ]
  },
  {
   "cell_type": "markdown",
   "id": "6050150a",
   "metadata": {},
   "source": [
    "# dict"
   ]
  },
  {
   "cell_type": "code",
   "execution_count": 27,
   "id": "3f3f4cce",
   "metadata": {},
   "outputs": [
    {
     "name": "stdout",
     "output_type": "stream",
     "text": [
      "{} <class 'dict'>\n",
      "{} <class 'dict'>\n"
     ]
    }
   ],
   "source": [
    "# 딕셔너리는 인덱스 번호가 부여되지 않지만, key값과 value값이 한 쌍으로 구성되어 있어 key값이 인덱스 번호 역할을 한다.\n",
    "\n",
    "di1 = {} #비어있는 딕셔너리 생성\n",
    "di2 = dict() #비어있는 딕셔너리 생성\n",
    "print(di1, type(di1))\n",
    "print(di2, type(di2))"
   ]
  },
  {
   "cell_type": "code",
   "execution_count": 28,
   "id": "ed9dba61",
   "metadata": {},
   "outputs": [
    {
     "name": "stdout",
     "output_type": "stream",
     "text": [
      "{'과일명': '배', '가격': 40000, '수량': 10} <class 'dict'>\n",
      "{'과일명': '배', '가격': 40000, '수량': 10, '크기': '중'} <class 'dict'>\n",
      "{'과일명': '배', '가격': 40000, '수량': 10, '크기': ['중', '소']} <class 'dict'>\n",
      "{'과일명': '배', '가격': 20000, '수량': 10, '크기': ['중', '소']} <class 'dict'>\n",
      "{'과일명': '배', '가격': 20000, '크기': ['중', '소']}\n",
      "배\n",
      "['중', '소']\n",
      "None\n"
     ]
    }
   ],
   "source": [
    "# 딕셔너리 생성(Key : Value의 형식으로 원소를 넣어준다.)\n",
    "fruits = {'과일명' : '배', '가격' : 40000, '수량' : 10}\n",
    "print(fruits, type(fruits))\n",
    "\n",
    "# 새로운 key, value 추가\n",
    "fruits['크기'] = '중'\n",
    "print(fruits, type(fruits))\n",
    "\n",
    "fruits['크기'] = ['중', '소']\n",
    "print(fruits, type(fruits))\n",
    "# 가격 20000 수정\n",
    "fruits['가격'] = 20000\n",
    "print(fruits, type(fruits))\n",
    "\n",
    "# 삭제 del(딕셔너리명[key])함수\n",
    "del(fruits['수량'])\n",
    "print(fruits)\n",
    "\n",
    "# 검색 (색인)\n",
    "print(fruits['과일명'])\n",
    "print(fruits.get('크기'))\n",
    "print(fruits.get('당도'))   #없는 키 호출 시 None값이 반환\n",
    "# print(fruits['당도'])     #KeyError / 없는 키 호출 시 에러발생"
   ]
  },
  {
   "cell_type": "code",
   "execution_count": 29,
   "id": "a588c4aa",
   "metadata": {},
   "outputs": [
    {
     "name": "stdout",
     "output_type": "stream",
     "text": [
      "dict_keys(['과일명', '가격', '크기'])\n",
      "dict_values(['배', 20000, ['중', '소']])\n",
      "dict_items([('과일명', '배'), ('가격', 20000), ('크기', ['중', '소'])])\n"
     ]
    }
   ],
   "source": [
    "# key값들만 확인\n",
    "print(fruits.keys())\n",
    "# value값들만 확인\n",
    "print(fruits.values())\n",
    "# 딕셔너리 모든 내용 확인\n",
    "print(fruits.items())"
   ]
  }
 ],
 "metadata": {
  "kernelspec": {
   "display_name": "Python 3 (ipykernel)",
   "language": "python",
   "name": "python3"
  },
  "language_info": {
   "codemirror_mode": {
    "name": "ipython",
    "version": 3
   },
   "file_extension": ".py",
   "mimetype": "text/x-python",
   "name": "python",
   "nbconvert_exporter": "python",
   "pygments_lexer": "ipython3",
   "version": "3.11.5"
  }
 },
 "nbformat": 4,
 "nbformat_minor": 5
}
