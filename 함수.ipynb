{
 "cells": [
  {
   "cell_type": "markdown",
   "id": "60c837fd",
   "metadata": {},
   "source": [
    "# 함수의 기본"
   ]
  },
  {
   "cell_type": "code",
   "execution_count": null,
   "id": "37f03490",
   "metadata": {},
   "outputs": [],
   "source": [
    "# 함수의 구성 요소\n",
    "# 1. 인자의 개수\n",
    "# 2. 함수의 동작을 정으\n",
    "# 3. 함수(사용 = 실행 = 호출) 결과 값"
   ]
  },
  {
   "cell_type": "markdown",
   "id": "5425463a",
   "metadata": {},
   "source": [
    "## 함수 정의 방법"
   ]
  },
  {
   "cell_type": "code",
   "execution_count": null,
   "id": "d3f022c9",
   "metadata": {},
   "outputs": [],
   "source": [
    "# 함수의 정의 방법\n",
    "\n",
    "# def 함수명():\n",
    "#     코드1\n",
    "#     코드2"
   ]
  },
  {
   "cell_type": "code",
   "execution_count": null,
   "id": "4cd75dd0",
   "metadata": {},
   "outputs": [],
   "source": [
    "# 함수의 인자 개수 정의\n",
    "# 인자의 개수는 함수를 정의할 때 소괄호 안쪽에 변수를 만들어서 정의한다.\n",
    "\n",
    "# def 함수명(a, b, c):\n",
    "#     코드1\n",
    "#     코드2\n",
    "\n",
    "# 위에서 정의한 함수는 소괄호 안에 변수(매개변수)가 3개이므로 함수를 사용할 때 인자를 3개 써줘야한다.\n",
    "# 함수명(a, b, c)"
   ]
  },
  {
   "cell_type": "code",
   "execution_count": null,
   "id": "0a0991de",
   "metadata": {},
   "outputs": [],
   "source": [
    "# 함수의 동작 정의\n",
    "# 함수의 동작(함수가 호출되었을 때 실질적으로 실행되어야하는 코드)은 :(콜론)다음의 영역에 작성된 코드들로 정의한다.\n",
    "\n",
    "# def 함수명(a, b, c):\n",
    "#     for i in range(10):\n",
    "#         print('홍길동')\n",
    "#     print('안녕')\n",
    "\n",
    "# 위처럼 함수를 정의하면 함수를 호출했을 때\n",
    "# for i in range(10):\n",
    "#     print('홍길동')\n",
    "# print('안녕')\n",
    "# 가 실행된다."
   ]
  },
  {
   "cell_type": "code",
   "execution_count": null,
   "id": "fd6c7766",
   "metadata": {},
   "outputs": [],
   "source": [
    "# 함수의 실행 결과값 정리\n",
    "# 결과값은 return이라는 명령어를 통해 정한다.\n",
    "\n",
    "# def 함수명():\n",
    "#     print('안녕')\n",
    "#     return 500\n",
    "\n",
    "# 위처럼 작성하면 함수의 실행 결과값이 500이 된다."
   ]
  },
  {
   "cell_type": "code",
   "execution_count": null,
   "id": "48088b5f",
   "metadata": {},
   "outputs": [],
   "source": [
    "# 함수의 사용 방법\n",
    "# 함수명 뒤에 소괄호를 사용하면 함수가 호출된다.\n",
    "# 이때 함수 이름 뒤에 사용한 소괄호는 함수 호출 연산자라고 한다.\n",
    "\n",
    "# def 함수명():\n",
    "#     print('안녕')\n",
    "#     return 500\n",
    "\n",
    "# 함수명()\n",
    "\n",
    "# 결과 : '안녕'"
   ]
  },
  {
   "cell_type": "markdown",
   "id": "e2ad7014",
   "metadata": {},
   "source": [
    "# 함수 사용하기"
   ]
  },
  {
   "cell_type": "code",
   "execution_count": 1,
   "id": "74a1fa19",
   "metadata": {},
   "outputs": [
    {
     "name": "stdout",
     "output_type": "stream",
     "text": [
      "안녕\n",
      "홍길동\n",
      "홍길동\n",
      "홍길동\n",
      "홍길동\n",
      "홍길동\n",
      "홍길동\n",
      "홍길동\n",
      "홍길동\n",
      "홍길동\n",
      "홍길동\n",
      "--------\n"
     ]
    }
   ],
   "source": [
    "# 함수를 정의하고 사용하기\n",
    "\n",
    "def printName():\n",
    "    print('안녕')\n",
    "    for i in range(10):\n",
    "        print('홍길동')\n",
    "    print('--------')\n",
    "    return None # None 생력가능\n",
    "\n",
    "printName()"
   ]
  },
  {
   "cell_type": "markdown",
   "id": "3f97bd3b",
   "metadata": {},
   "source": [
    "## 매개변수와 결과값"
   ]
  },
  {
   "cell_type": "code",
   "execution_count": 2,
   "id": "e32d8cbd",
   "metadata": {},
   "outputs": [
    {
     "name": "stdout",
     "output_type": "stream",
     "text": [
      "안녕\n",
      "짱구\n",
      "짱구\n",
      "짱구\n",
      "짱구\n",
      "짱구\n",
      "----\n",
      "안녕\n",
      "철수\n",
      "철수\n",
      "철수\n",
      "----\n"
     ]
    }
   ],
   "source": [
    "# 매개변수가 필요한 이유\n",
    "# 함수를 만드는 사람 입장에서 필요한 값을 스스로 정할 수 없고, 함수를 사용하는 사람으로 하여금 전달받아야만 할 때 사용\n",
    "\n",
    "def printName(name, cnt):\n",
    "    print('안녕')\n",
    "    for i in range(cnt):\n",
    "        print(name)\n",
    "    print('----')\n",
    "    return None\n",
    "\n",
    "printName('짱구', 5)\n",
    "printName('철수', 3)"
   ]
  },
  {
   "cell_type": "code",
   "execution_count": 4,
   "id": "00e34dd9",
   "metadata": {},
   "outputs": [
    {
     "name": "stdout",
     "output_type": "stream",
     "text": [
      "인자로 전달받은 값은 10입니다.\n",
      "이 값에 20을 곱한 결과는 200입니다.\n",
      "None\n"
     ]
    }
   ],
   "source": [
    "# 함수의 결과값이 필요한 경우와 그렇지 않은 경우\n",
    "# 함수 실행 결과가 값이 된다는 의미는 값의 특성을 사용(변수에 저장, 연산 등)\n",
    "# 함수 실행결과를 변수에 저장하거나 연산 하고 싶다면 결과값이 있는 함수를 만들어야한다.\n",
    "\n",
    "def getMul(num):\n",
    "    print(f\"인자로 전달받은 값은 {num}입니다.\")\n",
    "    print(f\"이 값에 20을 곱한 결과는 {num*20}입니다.\")\n",
    "    \n",
    "# print(getMul(10) / 3) / 오류내용 : TypeError: unsupported operand type(s) for /: 'NoneType' and 'int' \n",
    "# 함수의 결과값을 설정하지 않았으므로 결과값은 None으로 설정된다.\n",
    "# None / 3은 불가능하므로 오류가 발생한다.\n",
    "\n",
    "print(getMul(10))"
   ]
  },
  {
   "cell_type": "code",
   "execution_count": 5,
   "id": "9f03bb5b",
   "metadata": {},
   "outputs": [
    {
     "name": "stdout",
     "output_type": "stream",
     "text": [
      "인자로 전달받은 값은 10입니다.\n",
      "이 값에 20을 곱한 결과는 200입니다.\n",
      "66.66666666666667\n"
     ]
    }
   ],
   "source": [
    "def getMul(num):\n",
    "    print(f\"인자로 전달받은 값은 {num}입니다.\")\n",
    "    print(f\"이 값에 20을 곱한 결과는 {num*20}입니다.\")\n",
    "    return num*20\n",
    "\n",
    "print(getMul(10) / 3)\n",
    "\n",
    "# 이렇게 연산이 필요한 경우에는 결과값을 설정해줘야한다."
   ]
  },
  {
   "cell_type": "code",
   "execution_count": 8,
   "id": "6da896bb",
   "metadata": {},
   "outputs": [
    {
     "name": "stdout",
     "output_type": "stream",
     "text": [
      "a에는 10\n",
      "b에는 20\n",
      "c에는 30\n",
      "a에는 10\n",
      "b에는 20\n",
      "c에는 30\n"
     ]
    }
   ],
   "source": [
    "# 함수의 인자는 기본적으로 순서대로 대입되고, 매개변수의 이름을 알고 있는 경우에는 지정해서 대입이 가능하다.\n",
    "\n",
    "def f1(a, b, c):\n",
    "    print(f\"a에는 {a}\")\n",
    "    print(f\"b에는 {b}\")\n",
    "    print(f\"c에는 {c}\")\n",
    "\n",
    "# 순서대로 대입\n",
    "f1(10, 20, 30)\n",
    "\n",
    "# 순서를 지정해서 대입\n",
    "f1(c = 30, b= 20, a = 10)"
   ]
  },
  {
   "cell_type": "code",
   "execution_count": 9,
   "id": "eb707dd6",
   "metadata": {},
   "outputs": [
    {
     "name": "stdout",
     "output_type": "stream",
     "text": [
      "50\n",
      "50\n",
      "50\n",
      "-----\n",
      "150\n",
      "50\n",
      "60\n",
      "0\n",
      "-----\n",
      "110\n"
     ]
    }
   ],
   "source": [
    "# 기본 매개변수\n",
    "# 기본값으로 설정할 수 있으며, 인자가 전달이 되지 않으면 기본값으로 설정된 값이 매개변수에 대입이 된다.\n",
    "# 반드시 뒤부터 순서대로 설정해야한다.\n",
    "\n",
    "def getSum(a = 0, b = 0, c = 0): #기본 매개변수 설정 / (a = 0, b = 0, c)이렇게 설정X => 함상 뒤에서부터 설정\n",
    "    print(a)\n",
    "    print(b)\n",
    "    print(c)\n",
    "    print('-----')\n",
    "    return a+b+c\n",
    "\n",
    "print(getSum(50,50,50))\n",
    "print(getSum(50,60)) # c의 값이 설정되지 않아도 기본값인 0으로 자동 설정된다."
   ]
  },
  {
   "cell_type": "code",
   "execution_count": 11,
   "id": "1285e85d",
   "metadata": {},
   "outputs": [
    {
     "name": "stdout",
     "output_type": "stream",
     "text": [
      "[1, 2, 3, 4, 5] <class 'list'>\n",
      "----\n",
      "() <class 'tuple'>\n",
      "----\n",
      "(1, 2, 3) <class 'tuple'>\n",
      "----\n",
      "(1, 2, 3, 4) <class 'tuple'>\n",
      "----\n",
      "(1, 2, 3, 4, 5) <class 'tuple'>\n",
      "----\n"
     ]
    }
   ],
   "source": [
    "# 가변 매개변수\n",
    "# 매개변수에는 하나의 값이 대입되어야 한다. 즉, 매개변수 하나에는 요소가 여러개인 튜플 하나가 대입될 수 있다.\n",
    "# 이때 튜플의 요소의 개수는 상관 없다.\n",
    "\n",
    "# 이 성절을 활용하여 매개변수를 만들 때 매개변수 앞에 *을 붙이게 되면 해당 매개변수는 인자로 넘겨진 여러개의 값을 요소로 갖고 있는 \n",
    "# 하나의 튜플을 전달받는다.\n",
    "\n",
    "def f2(a):\n",
    "    print(a, type(a))\n",
    "    print('----')\n",
    "    \n",
    "f2([1, 2, 3, 4, 5])\n",
    "\n",
    "# 리스트를 사용하는 것은 비효율적이기에 가변 매개변수를 선언할 수 있다.\n",
    "\n",
    "def f3(*a):\n",
    "    print(a, type(a))\n",
    "    print('----')\n",
    "\n",
    "f3()\n",
    "f3(1, 2, 3)\n",
    "f3(1, 2, 3, 4)\n",
    "f3(1, 2, 3, 4, 5)"
   ]
  },
  {
   "cell_type": "code",
   "execution_count": 16,
   "id": "cc8f332b",
   "metadata": {},
   "outputs": [
    {
     "name": "stdout",
     "output_type": "stream",
     "text": [
      "(1, 2, 3, 4, 5) 홍길동 <class 'tuple'> <class 'str'>\n",
      "----\n"
     ]
    }
   ],
   "source": [
    "# 가변 매개변수와 기본 매개변수를 같이 선언하기\n",
    "\n",
    "def f4(*a, name):\n",
    "    print(a, name, type(a), type(name))\n",
    "    print('----')\n",
    "    \n",
    "# f4(1, 2, 3, 4, 5, '홍길동') /오류내용 : f4() missing 1 required keyword-only argument: 'name' /'홍길동'까지 묶어서 a에 대입시켜 오류발생\n",
    "\n",
    "f4(1, 2, 3, 4, 5, name='홍길동')"
   ]
  },
  {
   "cell_type": "code",
   "execution_count": 17,
   "id": "c4ba3cc8",
   "metadata": {},
   "outputs": [
    {
     "name": "stdout",
     "output_type": "stream",
     "text": [
      "10 50\n"
     ]
    }
   ],
   "source": [
    "# 키워드 매개변수\n",
    "# 키워드 매개변수는 **로 설정할 수 있다.\n",
    "# 이때 인자는 key = value 형식으로 전달해야하고, 인자를 전달받은 매개변수에는 key : value로 들어있는 딕셔너리로 변환되어 대입된다.\n",
    "\n",
    "def f5(**a):\n",
    "    print(a['name'], a['age'])\n",
    "\n",
    "f5(name = 10, age = 50)"
   ]
  },
  {
   "cell_type": "markdown",
   "id": "a340f7e0",
   "metadata": {},
   "source": [
    "## return값 설정"
   ]
  },
  {
   "cell_type": "code",
   "execution_count": 18,
   "id": "91cdedbb",
   "metadata": {},
   "outputs": [
    {
     "name": "stdout",
     "output_type": "stream",
     "text": [
      "1 <class 'int'>\n",
      "2 <class 'int'>\n",
      "3.4 <class 'float'>\n",
      "홍길동 <class 'str'>\n"
     ]
    }
   ],
   "source": [
    "def f6():\n",
    "    return 1, 2, 3.4, '홍길동' # 이때 반환값은 튜플로 반환된다.\n",
    "\n",
    "res = f6()\n",
    "print(res[0], type(res[0]))\n",
    "print(res[1], type(res[1]))\n",
    "print(res[2], type(res[2]))\n",
    "print(res[3], type(res[3]))"
   ]
  },
  {
   "cell_type": "markdown",
   "id": "442ff040",
   "metadata": {},
   "source": [
    "# 변수의 생명주기"
   ]
  },
  {
   "cell_type": "markdown",
   "id": "af5d6d47",
   "metadata": {},
   "source": [
    "## 전역변수"
   ]
  },
  {
   "cell_type": "code",
   "execution_count": 20,
   "id": "a9bc3b49",
   "metadata": {},
   "outputs": [
    {
     "name": "stdout",
     "output_type": "stream",
     "text": [
      "전역변수\n",
      "함수 종료\n",
      "전역변수\n"
     ]
    }
   ],
   "source": [
    "# 전역변수는 함수 바깥에서 생성되는 변수를 의미하며 프로그램이 종료되면 해제된다. \n",
    "# 변수 생성 이후부터 프로그램 종료 전까지 어디서든 사용 가능하다.\n",
    "\n",
    "global_var = '전역변수'\n",
    "\n",
    "def f5():\n",
    "    name = '홍길동'\n",
    "    print(global_var)\n",
    "    print('함수 종료')\n",
    "    \n",
    "f5()\n",
    "print(global_var)"
   ]
  },
  {
   "cell_type": "markdown",
   "id": "09d9582a",
   "metadata": {},
   "source": [
    "## 지역변수"
   ]
  },
  {
   "cell_type": "code",
   "execution_count": 23,
   "id": "8fc8e329",
   "metadata": {},
   "outputs": [
    {
     "name": "stdout",
     "output_type": "stream",
     "text": [
      "15\n",
      "나이는 10살입니다.\n"
     ]
    }
   ],
   "source": [
    "# 지역변수는 함수 안에서 생성되는 변수(매개변수 포함)를 의미한다.\n",
    "# 함수가 종료되면 메모리해서 해제되므로, 지역 안에서밖에 사용하지 못한다.\n",
    "\n",
    "age = 10 # 전역변수 age\n",
    "\n",
    "def f6(age): # 지역변수 agee\n",
    "    age = age + 10\n",
    "    print(age)\n",
    "    \n",
    "f6(5)\n",
    "print(f\"나이는 {age}살입니다.\")\n",
    "\n",
    "# 처음에 선언했던 전역변수 age와 함수 안에서 선언한 지역변수 age는 서로 이름은 같지만 다르다"
   ]
  },
  {
   "cell_type": "code",
   "execution_count": 24,
   "id": "b3f9004f",
   "metadata": {},
   "outputs": [
    {
     "name": "stdout",
     "output_type": "stream",
     "text": [
      "20\n"
     ]
    }
   ],
   "source": [
    "# 지역변수 age의 값을 얻고 싶다면 return시켜주면 된다.\n",
    "\n",
    "def f7(age):\n",
    "    age = age + 10\n",
    "    return age\n",
    "\n",
    "age = f7(10)\n",
    "print(age)"
   ]
  }
 ],
 "metadata": {
  "kernelspec": {
   "display_name": "Python 3 (ipykernel)",
   "language": "python",
   "name": "python3"
  },
  "language_info": {
   "codemirror_mode": {
    "name": "ipython",
    "version": 3
   },
   "file_extension": ".py",
   "mimetype": "text/x-python",
   "name": "python",
   "nbconvert_exporter": "python",
   "pygments_lexer": "ipython3",
   "version": "3.11.5"
  }
 },
 "nbformat": 4,
 "nbformat_minor": 5
}
