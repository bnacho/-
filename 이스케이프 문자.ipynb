{
 "cells": [
  {
   "cell_type": "markdown",
   "id": "3e34b29e",
   "metadata": {},
   "source": [
    "# 이스케이프 문자"
   ]
  },
  {
   "cell_type": "code",
   "execution_count": 12,
   "id": "2ee1706b",
   "metadata": {},
   "outputs": [
    {
     "name": "stdout",
     "output_type": "stream",
     "text": [
      "안녕하세요 '작음따옴표'를 표현했습니다.\n",
      "안녕하세요 '작음따옴표'를 표현했습니다.\n",
      "안녕하세요 \"큰따옴표\"를 표현했습니다.\n",
      "안녕하세요 \"큰따옴표\"를 표현했습니다.\n",
      "안녕하세요 \\역슬래시를 표현했습니다.\n",
      "안녕하세요 \n",
      "줄바꿈을 표현했습니다.\n",
      "안녕하세요 \tTab을 표현했습니다.\n"
     ]
    }
   ],
   "source": [
    "# 이스케이프 문자는 문자열 내에서 사용할 수 있으며, 특정한 기능을 한다.\n",
    "# 출력할 때 sep옵션에 Tab 등을 넣어서 사용할 수 있다.\n",
    "\n",
    "# 이스케이프 문자의 종류\n",
    "# 1. \\' : 작은 따옴표를 출력한다.\n",
    "# 2. \\\" : 큰 따옴표를 출력한다.\n",
    "# 3. \\\\ : \\를 출력한다.\n",
    "# 4. \\n : 줄바꿈을 표현한다.\n",
    "# 5. \\t : Tab을 표현한다.\n",
    "\n",
    "# --------작은 따옴표와 큰 따옴표 출력------------\n",
    "print('안녕하세요 \\'작음따옴표\\'를 표현했습니다.')\n",
    "print(\"안녕하세요 '작음따옴표'를 표현했습니다.\") # 문자열이 큰따옴표 안에 있을 때 작은 따옴표는 정상적으로 출력된다.\n",
    "print('안녕하세요 \\\"큰따옴표\\\"를 표현했습니다.')\n",
    "print('안녕하세요 \"큰따옴표\"를 표현했습니다.') # 문자열이 작은따옴표 안에 있을 때 큰 따옴표는 정상적으로 출력된다.\n",
    "\n",
    "# --------역슬래시 표현-----------\n",
    "print('안녕하세요 \\역슬래시를 표현했습니다.')\n",
    "\n",
    "# --------줄바꿈 표현-------------\n",
    "print('안녕하세요 \\n줄바꿈을 표현했습니다.')\n",
    "\n",
    "# -------Tab 표현-----------------\n",
    "print('안녕하세요 \\tTab을 표현했습니다.')"
   ]
  }
 ],
 "metadata": {
  "kernelspec": {
   "display_name": "Python 3 (ipykernel)",
   "language": "python",
   "name": "python3"
  },
  "language_info": {
   "codemirror_mode": {
    "name": "ipython",
    "version": 3
   },
   "file_extension": ".py",
   "mimetype": "text/x-python",
   "name": "python",
   "nbconvert_exporter": "python",
   "pygments_lexer": "ipython3",
   "version": "3.11.5"
  }
 },
 "nbformat": 4,
 "nbformat_minor": 5
}
